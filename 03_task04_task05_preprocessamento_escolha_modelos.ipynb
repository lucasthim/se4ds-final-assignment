{
 "cells": [
  {
   "cell_type": "markdown",
   "metadata": {},
   "source": [
    "# Task 04 - Pré Processamento e Limpeza dos Dados\n",
    "\n",
    "Sub-tarefas:\n",
    "- Codificação (encoding) dos dados.\n",
    "- Escalonamento dos dados.\n",
    "- Regras de negócio para limpar dados.\n",
    "\n",
    "Definição de pronto:\n",
    "\n",
    "- Datasets de treino e testes preprocessados\n"
   ]
  },
  {
   "cell_type": "markdown",
   "metadata": {},
   "source": [
    "Como visto na Task 01 (Análise Exploratória de Dados), todos os dados são numéricos e estão preenchidos. Logo não há necessidade de codificação de atributos categórios e preenchimento de valores faltantes. \n",
    "\n",
    "A respeito dos outliers e valores extremos, este problema de classificação se trata em certa instância de uma identificação de anomalias (bebês com risco de saúde). Sendo assim, valores outliers podem ajudar a identificar padrões fora do comportamento normal esperado. \n",
    "\n",
    "O escalonamento dos dados será feito durante a etapa de validação cruzada. Justificamos essa decisão para evitar possíveis vazamentos de dados entre os conjuntos de treino e validação dos k-folds.\n",
    "\n",
    "Sendo assim, esta Task 04 pode ser considerada como Pronta desde já.\n"
   ]
  },
  {
   "cell_type": "markdown",
   "metadata": {},
   "source": [
    "# Task 05 - Extração e Seleção de Atributos\n",
    "\n",
    "Subtarefas:\n",
    "- Fazer código experimental para selecionar atributos automaticamente.\n",
    "- Implementar classe que seleciona os atributos automaticamente.\n",
    "\n",
    "\n",
    "Definição de Pronto\n",
    "- Ter um código experimental para selecionar os atributos.\n",
    "- Ter uma classe implementada que a partir de um dataset de treino gera um conjunto de atributos selecionados. \n",
    "- Ter um conjunto de atributos selecionadas salvas em arquivo (artefato)."
   ]
  },
  {
   "cell_type": "code",
   "execution_count": 1,
   "metadata": {},
   "outputs": [],
   "source": [
    "import pandas as pd\n",
    "import matplotlib.pyplot as plt\n",
    "\n",
    "from sklearn.feature_selection import RFECV\n",
    "from sklearn.ensemble import RandomForestClassifier\n",
    "from sklearn.model_selection import StratifiedKFold,cross_val_score\n",
    "\n",
    "from sklearn.metrics import f1_score\n",
    "\n",
    "from sklearn.base import BaseEstimator\n",
    "\n",
    "from src.data_access_handler import DataAccessHandler"
   ]
  },
  {
   "cell_type": "code",
   "execution_count": 2,
   "metadata": {},
   "outputs": [],
   "source": [
    "access_handler = DataAccessHandler(main_path=\".\")\n",
    "df_train = access_handler.load(dataset_type=\"train\")"
   ]
  },
  {
   "cell_type": "markdown",
   "metadata": {},
   "source": [
    "A seleção de features será executada através do método *Recursive Feature Elimination* (Eliminação Recursiva de Atributos), que busca reduzir recursivamente o número de atributos disponíveis, porém sem perder poder preditivo. Este método utiliza as importâncias dos atributos de um modelo de machine learning treinado, para medir qual o grau das features na predição final.  Além disso, será usado validação cruzada pra atingir um maior grau de robustez na seleção.\n",
    "\n",
    "A métrica que irá avaliar essa seleção de atributos será a F1-score, com média macro. Isto é, levará em consideração todos os verdadeiros positivos, falsos positivos, falsos negativos."
   ]
  },
  {
   "cell_type": "code",
   "execution_count": 3,
   "metadata": {},
   "outputs": [],
   "source": [
    "def f1_score_micro(estimator:BaseEstimator,X:pd.DataFrame,y:pd.DataFrame):\n",
    "    y_pred = estimator.predict(X)\n",
    "    return f1_score(y_true=y,y_pred=y_pred, average='micro')\n",
    "\n",
    "rfe_feature_selector = RFECV(estimator=RandomForestClassifier(min_samples_split=3, min_samples_leaf=3,random_state=42),\n",
    "                            step=1,\n",
    "                            min_features_to_select=3,\n",
    "                            cv = StratifiedKFold(n_splits=5,random_state=42,shuffle=True),\n",
    "                            scoring=f1_score_micro,\n",
    "                            verbose=2,\n",
    "                            n_jobs=-1)"
   ]
  },
  {
   "cell_type": "code",
   "execution_count": 4,
   "metadata": {},
   "outputs": [
    {
     "name": "stdout",
     "output_type": "stream",
     "text": [
      "Fitting estimator with 21 features.\n",
      "Fitting estimator with 21 features.\n",
      "Fitting estimator with 21 features.\n",
      "Fitting estimator with 21 features.\n",
      "Fitting estimator with 21 features.\n",
      "Fitting estimator with 20 features.\n",
      "Fitting estimator with 20 features.\n",
      "Fitting estimator with 20 features.\n",
      "Fitting estimator with 20 features.\n",
      "Fitting estimator with 20 features.\n",
      "Fitting estimator with 19 features.\n",
      "Fitting estimator with 19 features.\n",
      "Fitting estimator with 19 features.\n",
      "Fitting estimator with 19 features.\n",
      "Fitting estimator with 19 features.\n",
      "Fitting estimator with 18 features.\n",
      "Fitting estimator with 18 features.\n",
      "Fitting estimator with 18 features.\n",
      "Fitting estimator with 18 features.\n",
      "Fitting estimator with 18 features.\n",
      "Fitting estimator with 17 features.\n",
      "Fitting estimator with 17 features.\n",
      "Fitting estimator with 17 features.\n",
      "Fitting estimator with 17 features.\n",
      "Fitting estimator with 17 features.\n",
      "Fitting estimator with 16 features.\n",
      "Fitting estimator with 16 features.\n",
      "Fitting estimator with 16 features.\n",
      "Fitting estimator with 16 features.\n",
      "Fitting estimator with 16 features.\n",
      "Fitting estimator with 15 features.\n",
      "Fitting estimator with 15 features.\n",
      "Fitting estimator with 15 features.\n",
      "Fitting estimator with 15 features.\n",
      "Fitting estimator with 15 features.\n",
      "Fitting estimator with 14 features.\n",
      "Fitting estimator with 14 features.\n",
      "Fitting estimator with 14 features.\n",
      "Fitting estimator with 14 features.\n",
      "Fitting estimator with 14 features.\n",
      "Fitting estimator with 13 features.\n",
      "Fitting estimator with 13 features.\n",
      "Fitting estimator with 13 features.\n",
      "Fitting estimator with 13 features.\n",
      "Fitting estimator with 13 features.\n",
      "Fitting estimator with 12 features.\n",
      "Fitting estimator with 12 features.\n",
      "Fitting estimator with 12 features.\n",
      "Fitting estimator with 12 features.\n",
      "Fitting estimator with 12 features.\n",
      "Fitting estimator with 11 features.\n",
      "Fitting estimator with 11 features.\n",
      "Fitting estimator with 11 features.\n",
      "Fitting estimator with 11 features.\n",
      "Fitting estimator with 11 features.\n",
      "Fitting estimator with 10 features.\n",
      "Fitting estimator with 10 features.\n",
      "Fitting estimator with 10 features.\n",
      "Fitting estimator with 10 features.\n",
      "Fitting estimator with 10 features.\n",
      "Fitting estimator with 9 features.\n",
      "Fitting estimator with 9 features.\n",
      "Fitting estimator with 9 features.\n",
      "Fitting estimator with 9 features.\n",
      "Fitting estimator with 9 features.\n",
      "Fitting estimator with 8 features.\n",
      "Fitting estimator with 8 features.\n",
      "Fitting estimator with 8 features.\n",
      "Fitting estimator with 8 features.\n",
      "Fitting estimator with 8 features.\n",
      "Fitting estimator with 7 features.\n",
      "Fitting estimator with 7 features.\n",
      "Fitting estimator with 7 features.\n",
      "Fitting estimator with 7 features.\n",
      "Fitting estimator with 7 features.\n",
      "Fitting estimator with 6 features.\n",
      "Fitting estimator with 6 features.\n",
      "Fitting estimator with 6 features.\n",
      "Fitting estimator with 6 features.\n",
      "Fitting estimator with 6 features.\n",
      "Fitting estimator with 5 features.\n",
      "Fitting estimator with 5 features.\n",
      "Fitting estimator with 5 features.\n",
      "Fitting estimator with 5 features.\n",
      "Fitting estimator with 5 features.\n",
      "Fitting estimator with 4 features.\n",
      "Fitting estimator with 4 features.\n",
      "Fitting estimator with 4 features.\n",
      "Fitting estimator with 4 features.\n",
      "Fitting estimator with 4 features.\n",
      "Fitting estimator with 21 features.\n",
      "Fitting estimator with 20 features.\n",
      "Fitting estimator with 19 features.\n",
      "Fitting estimator with 18 features.\n",
      "Fitting estimator with 17 features.\n",
      "Fitting estimator with 16 features.\n",
      "Fitting estimator with 15 features.\n",
      "Fitting estimator with 14 features.\n"
     ]
    },
    {
     "data": {
      "text/html": [
       "<style>#sk-container-id-1 {color: black;background-color: white;}#sk-container-id-1 pre{padding: 0;}#sk-container-id-1 div.sk-toggleable {background-color: white;}#sk-container-id-1 label.sk-toggleable__label {cursor: pointer;display: block;width: 100%;margin-bottom: 0;padding: 0.3em;box-sizing: border-box;text-align: center;}#sk-container-id-1 label.sk-toggleable__label-arrow:before {content: \"▸\";float: left;margin-right: 0.25em;color: #696969;}#sk-container-id-1 label.sk-toggleable__label-arrow:hover:before {color: black;}#sk-container-id-1 div.sk-estimator:hover label.sk-toggleable__label-arrow:before {color: black;}#sk-container-id-1 div.sk-toggleable__content {max-height: 0;max-width: 0;overflow: hidden;text-align: left;background-color: #f0f8ff;}#sk-container-id-1 div.sk-toggleable__content pre {margin: 0.2em;color: black;border-radius: 0.25em;background-color: #f0f8ff;}#sk-container-id-1 input.sk-toggleable__control:checked~div.sk-toggleable__content {max-height: 200px;max-width: 100%;overflow: auto;}#sk-container-id-1 input.sk-toggleable__control:checked~label.sk-toggleable__label-arrow:before {content: \"▾\";}#sk-container-id-1 div.sk-estimator input.sk-toggleable__control:checked~label.sk-toggleable__label {background-color: #d4ebff;}#sk-container-id-1 div.sk-label input.sk-toggleable__control:checked~label.sk-toggleable__label {background-color: #d4ebff;}#sk-container-id-1 input.sk-hidden--visually {border: 0;clip: rect(1px 1px 1px 1px);clip: rect(1px, 1px, 1px, 1px);height: 1px;margin: -1px;overflow: hidden;padding: 0;position: absolute;width: 1px;}#sk-container-id-1 div.sk-estimator {font-family: monospace;background-color: #f0f8ff;border: 1px dotted black;border-radius: 0.25em;box-sizing: border-box;margin-bottom: 0.5em;}#sk-container-id-1 div.sk-estimator:hover {background-color: #d4ebff;}#sk-container-id-1 div.sk-parallel-item::after {content: \"\";width: 100%;border-bottom: 1px solid gray;flex-grow: 1;}#sk-container-id-1 div.sk-label:hover label.sk-toggleable__label {background-color: #d4ebff;}#sk-container-id-1 div.sk-serial::before {content: \"\";position: absolute;border-left: 1px solid gray;box-sizing: border-box;top: 0;bottom: 0;left: 50%;z-index: 0;}#sk-container-id-1 div.sk-serial {display: flex;flex-direction: column;align-items: center;background-color: white;padding-right: 0.2em;padding-left: 0.2em;position: relative;}#sk-container-id-1 div.sk-item {position: relative;z-index: 1;}#sk-container-id-1 div.sk-parallel {display: flex;align-items: stretch;justify-content: center;background-color: white;position: relative;}#sk-container-id-1 div.sk-item::before, #sk-container-id-1 div.sk-parallel-item::before {content: \"\";position: absolute;border-left: 1px solid gray;box-sizing: border-box;top: 0;bottom: 0;left: 50%;z-index: -1;}#sk-container-id-1 div.sk-parallel-item {display: flex;flex-direction: column;z-index: 1;position: relative;background-color: white;}#sk-container-id-1 div.sk-parallel-item:first-child::after {align-self: flex-end;width: 50%;}#sk-container-id-1 div.sk-parallel-item:last-child::after {align-self: flex-start;width: 50%;}#sk-container-id-1 div.sk-parallel-item:only-child::after {width: 0;}#sk-container-id-1 div.sk-dashed-wrapped {border: 1px dashed gray;margin: 0 0.4em 0.5em 0.4em;box-sizing: border-box;padding-bottom: 0.4em;background-color: white;}#sk-container-id-1 div.sk-label label {font-family: monospace;font-weight: bold;display: inline-block;line-height: 1.2em;}#sk-container-id-1 div.sk-label-container {text-align: center;}#sk-container-id-1 div.sk-container {/* jupyter's `normalize.less` sets `[hidden] { display: none; }` but bootstrap.min.css set `[hidden] { display: none !important; }` so we also need the `!important` here to be able to override the default hidden behavior on the sphinx rendered scikit-learn.org. See: https://github.com/scikit-learn/scikit-learn/issues/21755 */display: inline-block !important;position: relative;}#sk-container-id-1 div.sk-text-repr-fallback {display: none;}</style><div id=\"sk-container-id-1\" class=\"sk-top-container\"><div class=\"sk-text-repr-fallback\"><pre>RFECV(cv=StratifiedKFold(n_splits=5, random_state=42, shuffle=True),\n",
       "      estimator=RandomForestClassifier(min_samples_leaf=3, min_samples_split=3,\n",
       "                                       random_state=42),\n",
       "      min_features_to_select=3, n_jobs=-1,\n",
       "      scoring=&lt;function f1_score_micro at 0x29ea90160&gt;, verbose=2)</pre><b>In a Jupyter environment, please rerun this cell to show the HTML representation or trust the notebook. <br />On GitHub, the HTML representation is unable to render, please try loading this page with nbviewer.org.</b></div><div class=\"sk-container\" hidden><div class=\"sk-item sk-dashed-wrapped\"><div class=\"sk-label-container\"><div class=\"sk-label sk-toggleable\"><input class=\"sk-toggleable__control sk-hidden--visually\" id=\"sk-estimator-id-1\" type=\"checkbox\" ><label for=\"sk-estimator-id-1\" class=\"sk-toggleable__label sk-toggleable__label-arrow\">RFECV</label><div class=\"sk-toggleable__content\"><pre>RFECV(cv=StratifiedKFold(n_splits=5, random_state=42, shuffle=True),\n",
       "      estimator=RandomForestClassifier(min_samples_leaf=3, min_samples_split=3,\n",
       "                                       random_state=42),\n",
       "      min_features_to_select=3, n_jobs=-1,\n",
       "      scoring=&lt;function f1_score_micro at 0x29ea90160&gt;, verbose=2)</pre></div></div></div><div class=\"sk-parallel\"><div class=\"sk-parallel-item\"><div class=\"sk-item\"><div class=\"sk-label-container\"><div class=\"sk-label sk-toggleable\"><input class=\"sk-toggleable__control sk-hidden--visually\" id=\"sk-estimator-id-2\" type=\"checkbox\" ><label for=\"sk-estimator-id-2\" class=\"sk-toggleable__label sk-toggleable__label-arrow\">estimator: RandomForestClassifier</label><div class=\"sk-toggleable__content\"><pre>RandomForestClassifier(min_samples_leaf=3, min_samples_split=3, random_state=42)</pre></div></div></div><div class=\"sk-serial\"><div class=\"sk-item\"><div class=\"sk-estimator sk-toggleable\"><input class=\"sk-toggleable__control sk-hidden--visually\" id=\"sk-estimator-id-3\" type=\"checkbox\" ><label for=\"sk-estimator-id-3\" class=\"sk-toggleable__label sk-toggleable__label-arrow\">RandomForestClassifier</label><div class=\"sk-toggleable__content\"><pre>RandomForestClassifier(min_samples_leaf=3, min_samples_split=3, random_state=42)</pre></div></div></div></div></div></div></div></div></div></div>"
      ],
      "text/plain": [
       "RFECV(cv=StratifiedKFold(n_splits=5, random_state=42, shuffle=True),\n",
       "      estimator=RandomForestClassifier(min_samples_leaf=3, min_samples_split=3,\n",
       "                                       random_state=42),\n",
       "      min_features_to_select=3, n_jobs=-1,\n",
       "      scoring=<function f1_score_micro at 0x29ea90160>, verbose=2)"
      ]
     },
     "execution_count": 4,
     "metadata": {},
     "output_type": "execute_result"
    }
   ],
   "source": [
    "target = ['fetal_health']\n",
    "features = df_train.drop(columns=target).columns\n",
    "X,y = df_train[features],df_train[target].values.ravel()\n",
    "\n",
    "rfe_feature_selector.fit(X,y)"
   ]
  },
  {
   "cell_type": "code",
   "execution_count": 5,
   "metadata": {},
   "outputs": [
    {
     "name": "stdout",
     "output_type": "stream",
     "text": [
      "Atributos Selecionados: ['baseline value' 'accelerations' 'uterine_contractions'\n",
      " 'prolongued_decelerations' 'abnormal_short_term_variability'\n",
      " 'mean_value_of_short_term_variability'\n",
      " 'percentage_of_time_with_abnormal_long_term_variability'\n",
      " 'mean_value_of_long_term_variability' 'histogram_width' 'histogram_min'\n",
      " 'histogram_mode' 'histogram_mean' 'histogram_median']\n",
      "\n",
      "F1-score Final da Validação Cruzada 0.9306666666666666\n"
     ]
    }
   ],
   "source": [
    "selected_features = rfe_feature_selector.get_feature_names_out()\n",
    "X,y = df_train[selected_features],df_train[target].values.ravel()\n",
    "\n",
    "scores = cross_val_score(estimator=RandomForestClassifier(min_samples_split=3, min_samples_leaf=3,random_state=42),\n",
    "                cv = StratifiedKFold(n_splits=5,random_state=42,shuffle=True),\n",
    "                X=X,y=y,\n",
    "                scoring=f1_score_micro,\n",
    "                n_jobs=-1)\n",
    "\n",
    "print(\"Atributos Selecionados:\",selected_features)\n",
    "print(\"\\nF1-score Final da Validação Cruzada\",scores.mean())"
   ]
  },
  {
   "cell_type": "markdown",
   "metadata": {},
   "source": [
    "Utilizando o código experimental implementado em uma classe separada FeatureSelector"
   ]
  },
  {
   "cell_type": "code",
   "execution_count": 1,
   "metadata": {},
   "outputs": [
    {
     "name": "stdout",
     "output_type": "stream",
     "text": [
      "Atributos Selecionados: ['baseline value', 'accelerations', 'uterine_contractions', 'prolongued_decelerations', 'abnormal_short_term_variability', 'mean_value_of_short_term_variability', 'percentage_of_time_with_abnormal_long_term_variability', 'mean_value_of_long_term_variability', 'histogram_width', 'histogram_min', 'histogram_mode', 'histogram_mean', 'histogram_median']\n"
     ]
    }
   ],
   "source": [
    "from feature_selector import FeatureSelector\n",
    "from data_access_handler import DataAccessHandler\n",
    "\n",
    "access_handler = DataAccessHandler(main_path=\".\")\n",
    "df_train = access_handler.load(dataset_type=\"train\")\n",
    "\n",
    "target = 'fetal_health'\n",
    "X,y = df_train.drop(columns=target),df_train[target].values.ravel()\n",
    "selector = FeatureSelector()\n",
    "selector.select_best_features(X=X,y=y)"
   ]
  },
  {
   "cell_type": "code",
   "execution_count": 3,
   "metadata": {},
   "outputs": [],
   "source": [
    "selector.save_best_features(path = \".\")"
   ]
  },
  {
   "cell_type": "code",
   "execution_count": 1,
   "metadata": {},
   "outputs": [
    {
     "data": {
      "text/plain": [
       "['baseline value',\n",
       " 'accelerations',\n",
       " 'uterine_contractions',\n",
       " 'prolongued_decelerations',\n",
       " 'abnormal_short_term_variability',\n",
       " 'mean_value_of_short_term_variability',\n",
       " 'percentage_of_time_with_abnormal_long_term_variability',\n",
       " 'mean_value_of_long_term_variability',\n",
       " 'histogram_width',\n",
       " 'histogram_min',\n",
       " 'histogram_mode',\n",
       " 'histogram_mean',\n",
       " 'histogram_median']"
      ]
     },
     "execution_count": 1,
     "metadata": {},
     "output_type": "execute_result"
    }
   ],
   "source": [
    "\n",
    "selector = FeatureSelector()\n",
    "selector.load_best_features(path=\"./\")\n",
    "selector.get_selected_features"
   ]
  },
  {
   "cell_type": "markdown",
   "metadata": {},
   "source": [
    "# Conclusões\n",
    "\n",
    "- 13 atributos finais foram selecionados utilizando o método RFECV, modelo RandomForest e mantendo a seed aleatória com o valor de 42 (para reproductibilidade).\n",
    "- A classe que fara essa seleção automática está implementada em um arquivo separado \"feature_selector.py\"\n",
    "- A classe que seleciona os atributos salva eles em um arquivo yaml, para ser lido em tempo de inferêcia/testes."
   ]
  }
 ],
 "metadata": {
  "kernelspec": {
   "display_name": "Python 3.10.4 ('base_ml')",
   "language": "python",
   "name": "python3"
  },
  "language_info": {
   "codemirror_mode": {
    "name": "ipython",
    "version": 3
   },
   "file_extension": ".py",
   "mimetype": "text/x-python",
   "name": "python",
   "nbconvert_exporter": "python",
   "pygments_lexer": "ipython3",
   "version": "3.10.4"
  },
  "orig_nbformat": 4,
  "vscode": {
   "interpreter": {
    "hash": "ff5b71a57004aac41c92d4008d66e8c8a20573ad91c6a09451338db6162a1ae6"
   }
  }
 },
 "nbformat": 4,
 "nbformat_minor": 2
}
