{
 "cells": [
  {
   "cell_type": "markdown",
   "metadata": {},
   "source": [
    "# Task 08 - Simulação de um fluxo (pipeline) de retreino automático"
   ]
  },
  {
   "cell_type": "code",
   "execution_count": 7,
   "metadata": {},
   "outputs": [],
   "source": [
    "from data_access_handler import DataAccessHandler\n",
    "from feature_selector import FeatureSelector\n",
    "from model import Model,ModelSelector,ModelOptimizer\n",
    "from utils import f1_score_micro\n",
    "\n",
    "OPTUNA_CV = 5\n",
    "OPTUNA_N_TRIALS = 10\n",
    "RANDOM_STATE = 42\n",
    "DATA_PATH = \"./data/\"\n",
    "MODEL_PATH = \"./models/\""
   ]
  },
  {
   "cell_type": "code",
   "execution_count": 4,
   "metadata": {},
   "outputs": [],
   "source": [
    "print(\"Loading training data into memory...\")\n",
    "access_handler = DataAccessHandler(main_path=DATA_PATH)\n",
    "df_train = access_handler.load(dataset_type=\"train\")\n",
    "print(\"Data loaded!\\n\")\n",
    "\n",
    "target = 'fetal_health'\n",
    "X,y = df_train.drop(columns=target),df_train[target].values.ravel()\n",
    "\n",
    "print(\"Selecting best features for training...\")\n",
    "feature_selector = FeatureSelector()\n",
    "feature_selector.select_best_features(X=X,y=y)\n",
    "feature_selector.save_best_features(path = DATA_PATH)\n",
    "features = feature_selector.get_selected_features\n",
    "print(\"Best features selected!\\n\")\n",
    "\n",
    "X,y = df_train[features],df_train[target].values.ravel()\n",
    "\n",
    "print(\"Optimizing available ML models...\")\n",
    "model_optimizer = ModelOptimizer()\n",
    "model_optimizer.optimize_all_models(X,y)\n",
    "lr_best,rf_best,lgbm_best = model_optimizer.get_optimized_models\n",
    "print(\"All models optimized!\\n\")\n",
    "\n",
    "lr_model = Model(model = lr_best)\n",
    "lr_model.save(path=MODEL_PATH,model_name=\"logistic_regression\")\n",
    "\n",
    "rf_model = Model(model = rf_best)\n",
    "rf_model.save(path=MODEL_PATH,model_name=\"random_forest\")\n",
    "\n",
    "lgbm_best = Model(model = lgbm_best)\n",
    "lgbm_best.save(path=MODEL_PATH,model_name=\"light_gbm\")\n",
    "\n",
    "del lr_best,rf_best,lgbm_best,lr_model,rf_model,lgbm_best\n",
    "print(\"All optimized models saved!\\n\")\n",
    "\n",
    "print(\"Loading saved models into memory...\")\n",
    "lr_model = Model()\n",
    "lr_model.load(path=MODEL_PATH,model_name=\"logistic_regression\")\n",
    "\n",
    "rf_model = Model()\n",
    "rf_model.load(path=MODEL_PATH,model_name=\"random_forest\")\n",
    "\n",
    "lgbm_best = Model()\n",
    "lgbm_best.load(path=MODEL_PATH,model_name=\"light_gbm\")\n",
    "print(\"All optimized models loaded into memory!\\n\")\n",
    "\n",
    "\n",
    "print(\"Loading test set for model selection...\")\n",
    "df_test = access_handler.load(dataset_type=\"test\")\n",
    "X,y = df_test[features],df_test[target].values.ravel()\n",
    "print(\"Data loaded into memory!\\n\")\n",
    "\n",
    "print(\"Choosing final model...\")\n",
    "model_selector = ModelSelector(models=[lr_model,rf_model,lgbm_best],\n",
    "                            model_names=[\"logistic_regression\",\"random_forest\",\"light_gbm\"])\n",
    "model_selector.select_best_model(X,y)\n",
    "\n",
    "print(\"Saving final model...\")\n",
    "model_selector.get_winner_model.save(path = MODEL_PATH,model_name = \"winner_model\")\n",
    "print(\"Final model saved!\")\n",
    "\n",
    "del model_selector,df_test,access_handler"
   ]
  },
  {
   "cell_type": "markdown",
   "metadata": {},
   "source": [
    "# Task 09 - Simulação de um Fluxo de Inferência"
   ]
  },
  {
   "cell_type": "code",
   "execution_count": 9,
   "metadata": {},
   "outputs": [
    {
     "name": "stdout",
     "output_type": "stream",
     "text": [
      "Loading training data into memory...\n",
      "Data loaded!\n",
      "\n",
      "Best features selected!\n",
      "\n",
      "Model loaded into memory!\n",
      "\n",
      "Prediction for provided sample:\n"
     ]
    },
    {
     "data": {
      "text/plain": [
       "array([1., 1., 1., 1., 1., 3., 1., 3., 2., 2.])"
      ]
     },
     "execution_count": 9,
     "metadata": {},
     "output_type": "execute_result"
    }
   ],
   "source": [
    "print(\"Loading training data into memory...\")\n",
    "access_handler = DataAccessHandler(main_path=DATA_PATH)\n",
    "df = access_handler.load(dataset_type=\"test\").iloc[:10] # simulando 10 amostras para inferência\n",
    "print(\"Data loaded!\\n\")\n",
    "\n",
    "feature_selector = FeatureSelector()\n",
    "feature_selector.load_best_features(path = DATA_PATH)\n",
    "features = feature_selector.get_selected_features\n",
    "print(\"Best features selected!\\n\")\n",
    "\n",
    "target = 'fetal_health'\n",
    "X = df[features]\n",
    "\n",
    "print(\"Model loaded into memory!\\n\")\n",
    "model = Model()\n",
    "model.load(path=MODEL_PATH,model_name=\"winner_model\")\n",
    "\n",
    "print(\"Prediction for provided sample:\")\n",
    "model.predict(X)"
   ]
  }
 ],
 "metadata": {
  "kernelspec": {
   "display_name": "Python 3.10.4 ('base_ml')",
   "language": "python",
   "name": "python3"
  },
  "language_info": {
   "codemirror_mode": {
    "name": "ipython",
    "version": 3
   },
   "file_extension": ".py",
   "mimetype": "text/x-python",
   "name": "python",
   "nbconvert_exporter": "python",
   "pygments_lexer": "ipython3",
   "version": "3.10.4"
  },
  "orig_nbformat": 4,
  "vscode": {
   "interpreter": {
    "hash": "ff5b71a57004aac41c92d4008d66e8c8a20573ad91c6a09451338db6162a1ae6"
   }
  }
 },
 "nbformat": 4,
 "nbformat_minor": 2
}
