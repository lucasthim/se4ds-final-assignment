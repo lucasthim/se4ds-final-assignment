{
 "cells": [
  {
   "cell_type": "markdown",
   "metadata": {},
   "source": [
    "# Classificação de Saúde Fetal\n",
    "\n",
    "A redução da mortalidade infantil está refletida em vários Objetivos de Desenvolvimento Sustentável das Nações \n",
    "Unidas e é um indicador chave do progresso humano.\n",
    "\n",
    "A ONU espera que, até 2030, os países acabem com as mortes evitáveis de recém-nascidos e crianças menores de \n",
    "5 anos, com todos os países visando reduzir a mortalidade de menores de 5 anos para pelo menos 25 por 1.000 nascidos vivos.\n",
    "\n",
    "Os cardiotocogramas (CTGs) são uma opção simples e de baixo custo para avaliar a saúde fetal, permitindo que os \n",
    "profissionais de saúde tomem medidas para prevenir a mortalidade infantil e materna. O equipamento funciona \n",
    "enviando pulsos de ultrassom e lendo sua resposta, lançando luz sobre a frequência cardíaca fetal (FCF), \n",
    "movimentos fetais, contrações uterinas e muito mais.\n",
    "\n",
    "\n",
    "**Problema tirado do Kaggle: https://www.kaggle.com/datasets/andrewmvd/fetal-health-classification**\n",
    "\n",
    "**Referência dos dados originais: Ayres de Campos et al. (2000) SisPorto 2.0 A Program for Automated Analysis of Cardiotocograms. J Matern Fetal Med 5:311-318 (link)**"
   ]
  },
  {
   "cell_type": "markdown",
   "metadata": {},
   "source": [
    "# Escopo da Solução Proposta - Canvas MVP\n",
    "\n",
    "### Personas Segmentadas\n",
    "- Obstetra\n",
    "- Gestante\n",
    "\n",
    "### Jornada\n",
    "\n",
    "- Diagnosticar anomalias na saúde do feto\n",
    "- Explicar fatores que influenciam no diagnóstico (não é escopo deste trabalho final)\n",
    "\n",
    "### Proposta do MVP\n",
    "\n",
    "Validar a hipótese se é possível reduzir o número de mortalidade infantis, através da identificação de possíveis anomalias na saúde do feto.\n",
    "\n",
    "### Funcionalidades \n",
    "\n",
    "- Clasificação automática da saúde do feto.\n",
    "- Explicar fatores mais relevantes para a classificação.\n",
    "\n",
    "### Custo e Cronograma\n",
    "- Squad full time de um desenvolvedor e dois cientistas de dados, por 5 meses. \n",
    "- Suporte part time de um Scrum Master, um Product Owner e um Analista de DevOps, por 5 meses.\n",
    "\n",
    "### Resultado Esperado\n",
    "\n",
    "- Identificar ao menos 70% dos óbitos que podem ser evitados.\n",
    "- Reduzir o número de óbitos que podem ser evitados em 80%.\n",
    "\n",
    "### Métricas para Validar as Hipóteses de Negócio\n",
    "\n",
    "- Número de óbitos totais.\n",
    "- Número de óbitos que poderiam ter sido evitados.\n",
    "- Número de partos bem sucedidos (sem óbitos do bebê ou da mãe).\n",
    "- Número de óbitos de bebês durante a estadia na maternidade."
   ]
  },
  {
   "cell_type": "markdown",
   "metadata": {},
   "source": [
    "# User Stories\n",
    "\n",
    "## Listagem das Epics \n",
    "\n",
    "- EP01: **Como** Obstetra, **quero** executar a classificação automática do estado de saúde dos fetos, **para** saber se há risco de complicação de saúde ou óbito.\n",
    "- EP01: **Como** Obstetra, **quero** a explicação de uma classificação individual, **para** entender os fatores mais relevantes que podem trazer risco de vida ao feto e a mãe.\n",
    "\n",
    "## Regras Gerais\n",
    "\n",
    "- As classes possíveis e identificáveis são: Normal, Suspeito e Patológico.\n",
    "- Atributos disponíveis são dados tabulares, extraídos de um exame CTG."
   ]
  },
  {
   "cell_type": "markdown",
   "metadata": {},
   "source": [
    "# EP01 - Detalhamento\n",
    "\n",
    "## O que:\n",
    "\n",
    "Executar a classificação automática do estado de saúde dos fetos, em três possíves estados: Normal, Suspeito ou Patológico\n",
    "\n",
    "## Pra que\n",
    "\n",
    "Saber se há risco de complicação de saúde ou óbito.\n",
    "\n",
    "## Como\n",
    "\n",
    "Através de técnicas de análise de dados e aprendizado de máquina, será possível identificar automaticamente as 3 classes mencionadas acima.\n",
    "\n",
    "\n",
    "## Detalhamento de User Stories da Epic\n",
    "\n",
    "\n",
    "1. US01 - Análise Exploratória dos Dados.\n",
    "\n",
    "2. US02 - Pré Processamento e Limpeza dos Dados.\n",
    "\n",
    "3. US03 - Experimentação Simples.\n",
    "\n",
    "3. US04 - Extração e Seleção de Atributos.\n",
    "\n",
    "4. US05 - Otimização da Modelagem de Aprendizado de Máquina.\n",
    "\n",
    "5. US06 - Comparação dos Modelos escolhidos."
   ]
  },
  {
   "cell_type": "markdown",
   "metadata": {},
   "source": [
    "# US01 - Análise Exploratória dos Dados"
   ]
  },
  {
   "cell_type": "code",
   "execution_count": 1,
   "metadata": {},
   "outputs": [],
   "source": [
    "import pandas as pd"
   ]
  },
  {
   "cell_type": "code",
   "execution_count": null,
   "metadata": {},
   "outputs": [],
   "source": []
  }
 ],
 "metadata": {
  "kernelspec": {
   "display_name": "Python 3.9.12 ('se4ds')",
   "language": "python",
   "name": "python3"
  },
  "language_info": {
   "codemirror_mode": {
    "name": "ipython",
    "version": 3
   },
   "file_extension": ".py",
   "mimetype": "text/x-python",
   "name": "python",
   "nbconvert_exporter": "python",
   "pygments_lexer": "ipython3",
   "version": "3.9.12"
  },
  "orig_nbformat": 4,
  "vscode": {
   "interpreter": {
    "hash": "3e0d7b50d805713f9a185acba16b870fbc6c42353ef10dffa17404d90e104671"
   }
  }
 },
 "nbformat": 4,
 "nbformat_minor": 2
}
