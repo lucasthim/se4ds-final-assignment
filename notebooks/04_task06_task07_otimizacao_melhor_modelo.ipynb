{
 "cells": [
  {
   "cell_type": "markdown",
   "metadata": {},
   "source": [
    "# Tarefa 06 - Otimização dos Modelos de Aprendizagem de Máquina\n",
    "\n",
    "Sub Tarefas\n",
    "- Montar um código experimental que irá procurar pelos melhores hiper parâmetros dos modelos utilizando validação cruzada.\n",
    "- Utilizar a biblioteca Optuna para fazer uma busca otimizada.\n",
    "- Salvar os melhores modelos treinados.\n",
    "\n",
    "Definição de Pronto\n",
    "- Ter um conjunto de hiper parametros escolhido para cada modelo.\n",
    "- Salvar cada modelo treinado"
   ]
  },
  {
   "cell_type": "code",
   "execution_count": 2,
   "metadata": {},
   "outputs": [],
   "source": [
    "import pandas as pd\n",
    "import numpy as np\n",
    "import matplotlib.pyplot as plt\n",
    "import seaborn as sns\n",
    "\n",
    "from sklearn.ensemble import RandomForestClassifier\n",
    "from sklearn.linear_model import LogisticRegression\n",
    "from sklearn.svm import SVC\n",
    "from lightgbm import LGBMClassifier\n",
    "\n",
    "from sklearn.model_selection import StratifiedKFold,cross_val_score\n",
    "\n",
    "from sklearn.metrics import f1_score,roc_auc_score,classification_report\n",
    "\n",
    "from sklearn.base import BaseEstimator\n",
    "\n",
    "from data_access_handler import DataAccessHandler\n",
    "from feature_selector import FeatureSelector\n",
    "\n",
    "OPTUNA_CV = 5\n",
    "OPTUNA_N_TRIALS = 200\n",
    "RANDOM_STATE = 42"
   ]
  },
  {
   "cell_type": "markdown",
   "metadata": {},
   "source": [
    "Nesta etapa, a normalização dos dados será feita junto ao treinamento dos modelos, através da classe Pipeline do scikitlearn.\n",
    "\n",
    "A otimização é feita com a biblioteca Optuna."
   ]
  },
  {
   "cell_type": "code",
   "execution_count": null,
   "metadata": {},
   "outputs": [],
   "source": [
    "\n",
    "\n",
    "model = LogisticRegression(class_weight='balanced', penalty='l2',max_iter=1000)\n",
    "param_distributions = {\"C\": optuna.distributions.LogUniformDistribution(1e-4, 100)\n",
    "                       }\n",
    "optuna_search = optuna.integration.OptunaSearchCV(model, param_distributions, scoring='roc_auc',cv=StratifiedKFold(shuffle=True,random_state=RANDOM_STATE), n_trials=OPTUNA_N_TRIALS,verbose=0)\n",
    "optuna_search.fit(X_train_norm, y_train)"
   ]
  }
 ],
 "metadata": {
  "kernelspec": {
   "display_name": "Python 3.9.12 ('se4ds')",
   "language": "python",
   "name": "python3"
  },
  "language_info": {
   "codemirror_mode": {
    "name": "ipython",
    "version": 3
   },
   "file_extension": ".py",
   "mimetype": "text/x-python",
   "name": "python",
   "nbconvert_exporter": "python",
   "pygments_lexer": "ipython3",
   "version": "3.9.12"
  },
  "orig_nbformat": 4,
  "vscode": {
   "interpreter": {
    "hash": "3e0d7b50d805713f9a185acba16b870fbc6c42353ef10dffa17404d90e104671"
   }
  }
 },
 "nbformat": 4,
 "nbformat_minor": 2
}
