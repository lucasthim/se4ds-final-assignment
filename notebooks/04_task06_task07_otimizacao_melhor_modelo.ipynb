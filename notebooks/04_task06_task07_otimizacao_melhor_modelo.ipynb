{
 "cells": [
  {
   "cell_type": "markdown",
   "metadata": {},
   "source": [
    "# Tarefa 06 - Otimização dos Modelos de Aprendizagem de Máquina\n",
    "\n",
    "Sub Tarefas\n",
    "- Montar um código experimental que irá procurar pelos melhores hiper parâmetros dos modelos utilizando validação cruzada.\n",
    "- Utilizar a biblioteca Optuna para fazer uma busca otimizada.\n",
    "- Implementar uma classe para salvar e carregar os modelos.\n",
    "- Salvar os melhores modelos treinados.\n",
    "\n",
    "Definição de Pronto\n",
    "- Ter um conjunto de hiper parametros escolhido para cada modelo.\n",
    "- Salvar modelos treinados"
   ]
  },
  {
   "cell_type": "code",
   "execution_count": 16,
   "metadata": {},
   "outputs": [],
   "source": [
    "import pandas as pd\n",
    "import numpy as np\n",
    "import matplotlib.pyplot as plt\n",
    "import seaborn as sns\n",
    "\n",
    "from optuna import distributions\n",
    "from optuna.integration import OptunaSearchCV\n",
    "\n",
    "import tqdm as notebook_tqdm\n",
    "\n",
    "from lightgbm import LGBMClassifier\n",
    "\n",
    "from sklearn.ensemble import RandomForestClassifier\n",
    "from sklearn.linear_model import LogisticRegression\n",
    "from sklearn.pipeline import Pipeline\n",
    "from sklearn.preprocessing import MinMaxScaler\n",
    "from sklearn.model_selection import StratifiedKFold,cross_val_score\n",
    "from sklearn.metrics import f1_score,roc_auc_score,classification_report\n",
    "from sklearn.base import BaseEstimator\n",
    "\n",
    "from data_access_handler import DataAccessHandler\n",
    "from feature_selector import FeatureSelector\n",
    "from model import Model\n",
    "\n",
    "OPTUNA_CV = 5\n",
    "OPTUNA_N_TRIALS = 10\n",
    "RANDOM_STATE = 42\n",
    "DATA_PATH = \"./data/\"\n",
    "MODEL_PATH = \"./models/\"\n",
    "\n",
    "def f1_score_micro(estimator:BaseEstimator,X:pd.DataFrame,y:pd.DataFrame):\n",
    "    y_pred = estimator.predict(X)\n",
    "    return f1_score(y_true=y,y_pred=y_pred, average='micro')"
   ]
  },
  {
   "cell_type": "markdown",
   "metadata": {},
   "source": [
    "Nesta etapa, a normalização dos dados será feita junto ao treinamento dos modelos, através da classe Pipeline do scikitlearn.\n",
    "\n",
    "A otimização é feita com a biblioteca Optuna."
   ]
  },
  {
   "cell_type": "code",
   "execution_count": 17,
   "metadata": {},
   "outputs": [],
   "source": [
    "access_handler = DataAccessHandler(main_path=DATA_PATH)\n",
    "df_train = access_handler.load(dataset_type=\"train\")\n",
    "\n",
    "selector = FeatureSelector()\n",
    "selector.load_best_features(path=DATA_PATH)\n",
    "features = selector.get_selected_features\n",
    "\n",
    "target = 'fetal_health'\n",
    "X,y = df_train[features],df_train[target].values.ravel()"
   ]
  },
  {
   "cell_type": "code",
   "execution_count": 5,
   "metadata": {},
   "outputs": [
    {
     "name": "stderr",
     "output_type": "stream",
     "text": [
      "/var/folders/j9/xmww9hhs58l11krvp3hwt9wm0000gn/T/ipykernel_30334/1629426855.py:12: ExperimentalWarning: OptunaSearchCV is experimental (supported from v0.17.0). The interface can change in the future.\n",
      "  lr_best = OptunaSearchCV(model_pipeline,\n",
      "\u001b[32m[I 2022-07-19 01:42:32,573]\u001b[0m A new study created in memory with name: no-name-e9966e9f-9b18-4116-bd44-92292411c405\u001b[0m\n",
      "\u001b[32m[I 2022-07-19 01:42:32,602]\u001b[0m Trial 0 finished with value: 0.7666666666666666 and parameters: {'lr__C': 0.0029149796154619833}. Best is trial 0 with value: 0.7666666666666666.\u001b[0m\n",
      "\u001b[32m[I 2022-07-19 01:42:32,625]\u001b[0m Trial 1 finished with value: 0.7506666666666667 and parameters: {'lr__C': 0.0006402202027913462}. Best is trial 0 with value: 0.7666666666666666.\u001b[0m\n",
      "\u001b[32m[I 2022-07-19 01:42:32,685]\u001b[0m Trial 2 finished with value: 0.8433333333333334 and parameters: {'lr__C': 1.1469130792205986}. Best is trial 2 with value: 0.8433333333333334.\u001b[0m\n",
      "\u001b[32m[I 2022-07-19 01:42:32,717]\u001b[0m Trial 3 finished with value: 0.826 and parameters: {'lr__C': 0.03803558544979493}. Best is trial 2 with value: 0.8433333333333334.\u001b[0m\n",
      "\u001b[32m[I 2022-07-19 01:42:32,764]\u001b[0m Trial 4 finished with value: 0.8353333333333334 and parameters: {'lr__C': 0.35474198710957133}. Best is trial 2 with value: 0.8433333333333334.\u001b[0m\n",
      "\u001b[32m[I 2022-07-19 01:42:32,790]\u001b[0m Trial 5 finished with value: 0.8173333333333334 and parameters: {'lr__C': 0.019820443433091993}. Best is trial 2 with value: 0.8433333333333334.\u001b[0m\n",
      "\u001b[32m[I 2022-07-19 01:42:32,811]\u001b[0m Trial 6 finished with value: 0.7466666666666667 and parameters: {'lr__C': 0.000272269640240699}. Best is trial 2 with value: 0.8433333333333334.\u001b[0m\n",
      "\u001b[32m[I 2022-07-19 01:42:32,852]\u001b[0m Trial 7 finished with value: 0.836 and parameters: {'lr__C': 0.07609736744198034}. Best is trial 2 with value: 0.8433333333333334.\u001b[0m\n",
      "\u001b[32m[I 2022-07-19 01:42:32,893]\u001b[0m Trial 8 finished with value: 0.8373333333333335 and parameters: {'lr__C': 0.08913819554974671}. Best is trial 2 with value: 0.8433333333333334.\u001b[0m\n",
      "\u001b[32m[I 2022-07-19 01:42:32,917]\u001b[0m Trial 9 finished with value: 0.8166666666666668 and parameters: {'lr__C': 0.020219439717096208}. Best is trial 2 with value: 0.8433333333333334.\u001b[0m\n"
     ]
    },
    {
     "data": {
      "text/html": [
       "<style>#sk-container-id-1 {color: black;background-color: white;}#sk-container-id-1 pre{padding: 0;}#sk-container-id-1 div.sk-toggleable {background-color: white;}#sk-container-id-1 label.sk-toggleable__label {cursor: pointer;display: block;width: 100%;margin-bottom: 0;padding: 0.3em;box-sizing: border-box;text-align: center;}#sk-container-id-1 label.sk-toggleable__label-arrow:before {content: \"▸\";float: left;margin-right: 0.25em;color: #696969;}#sk-container-id-1 label.sk-toggleable__label-arrow:hover:before {color: black;}#sk-container-id-1 div.sk-estimator:hover label.sk-toggleable__label-arrow:before {color: black;}#sk-container-id-1 div.sk-toggleable__content {max-height: 0;max-width: 0;overflow: hidden;text-align: left;background-color: #f0f8ff;}#sk-container-id-1 div.sk-toggleable__content pre {margin: 0.2em;color: black;border-radius: 0.25em;background-color: #f0f8ff;}#sk-container-id-1 input.sk-toggleable__control:checked~div.sk-toggleable__content {max-height: 200px;max-width: 100%;overflow: auto;}#sk-container-id-1 input.sk-toggleable__control:checked~label.sk-toggleable__label-arrow:before {content: \"▾\";}#sk-container-id-1 div.sk-estimator input.sk-toggleable__control:checked~label.sk-toggleable__label {background-color: #d4ebff;}#sk-container-id-1 div.sk-label input.sk-toggleable__control:checked~label.sk-toggleable__label {background-color: #d4ebff;}#sk-container-id-1 input.sk-hidden--visually {border: 0;clip: rect(1px 1px 1px 1px);clip: rect(1px, 1px, 1px, 1px);height: 1px;margin: -1px;overflow: hidden;padding: 0;position: absolute;width: 1px;}#sk-container-id-1 div.sk-estimator {font-family: monospace;background-color: #f0f8ff;border: 1px dotted black;border-radius: 0.25em;box-sizing: border-box;margin-bottom: 0.5em;}#sk-container-id-1 div.sk-estimator:hover {background-color: #d4ebff;}#sk-container-id-1 div.sk-parallel-item::after {content: \"\";width: 100%;border-bottom: 1px solid gray;flex-grow: 1;}#sk-container-id-1 div.sk-label:hover label.sk-toggleable__label {background-color: #d4ebff;}#sk-container-id-1 div.sk-serial::before {content: \"\";position: absolute;border-left: 1px solid gray;box-sizing: border-box;top: 0;bottom: 0;left: 50%;z-index: 0;}#sk-container-id-1 div.sk-serial {display: flex;flex-direction: column;align-items: center;background-color: white;padding-right: 0.2em;padding-left: 0.2em;position: relative;}#sk-container-id-1 div.sk-item {position: relative;z-index: 1;}#sk-container-id-1 div.sk-parallel {display: flex;align-items: stretch;justify-content: center;background-color: white;position: relative;}#sk-container-id-1 div.sk-item::before, #sk-container-id-1 div.sk-parallel-item::before {content: \"\";position: absolute;border-left: 1px solid gray;box-sizing: border-box;top: 0;bottom: 0;left: 50%;z-index: -1;}#sk-container-id-1 div.sk-parallel-item {display: flex;flex-direction: column;z-index: 1;position: relative;background-color: white;}#sk-container-id-1 div.sk-parallel-item:first-child::after {align-self: flex-end;width: 50%;}#sk-container-id-1 div.sk-parallel-item:last-child::after {align-self: flex-start;width: 50%;}#sk-container-id-1 div.sk-parallel-item:only-child::after {width: 0;}#sk-container-id-1 div.sk-dashed-wrapped {border: 1px dashed gray;margin: 0 0.4em 0.5em 0.4em;box-sizing: border-box;padding-bottom: 0.4em;background-color: white;}#sk-container-id-1 div.sk-label label {font-family: monospace;font-weight: bold;display: inline-block;line-height: 1.2em;}#sk-container-id-1 div.sk-label-container {text-align: center;}#sk-container-id-1 div.sk-container {/* jupyter's `normalize.less` sets `[hidden] { display: none; }` but bootstrap.min.css set `[hidden] { display: none !important; }` so we also need the `!important` here to be able to override the default hidden behavior on the sphinx rendered scikit-learn.org. See: https://github.com/scikit-learn/scikit-learn/issues/21755 */display: inline-block !important;position: relative;}#sk-container-id-1 div.sk-text-repr-fallback {display: none;}</style><div id=\"sk-container-id-1\" class=\"sk-top-container\"><div class=\"sk-text-repr-fallback\"><pre>OptunaSearchCV(cv=StratifiedKFold(n_splits=5, random_state=42, shuffle=True),\n",
       "               estimator=Pipeline(steps=[(&#x27;scaler&#x27;, MinMaxScaler()),\n",
       "                                         (&#x27;lr&#x27;,\n",
       "                                          LogisticRegression(class_weight=&#x27;balanced&#x27;,\n",
       "                                                             max_iter=1000,\n",
       "                                                             random_state=42))]),\n",
       "               param_distributions={&#x27;lr__C&#x27;: LogUniformDistribution(high=100.0, low=0.0001)},\n",
       "               scoring=&lt;function f1_score_micro at 0x2a1fae200&gt;)</pre><b>In a Jupyter environment, please rerun this cell to show the HTML representation or trust the notebook. <br />On GitHub, the HTML representation is unable to render, please try loading this page with nbviewer.org.</b></div><div class=\"sk-container\" hidden><div class=\"sk-item sk-dashed-wrapped\"><div class=\"sk-label-container\"><div class=\"sk-label sk-toggleable\"><input class=\"sk-toggleable__control sk-hidden--visually\" id=\"sk-estimator-id-1\" type=\"checkbox\" ><label for=\"sk-estimator-id-1\" class=\"sk-toggleable__label sk-toggleable__label-arrow\">OptunaSearchCV</label><div class=\"sk-toggleable__content\"><pre>OptunaSearchCV(cv=StratifiedKFold(n_splits=5, random_state=42, shuffle=True),\n",
       "               estimator=Pipeline(steps=[(&#x27;scaler&#x27;, MinMaxScaler()),\n",
       "                                         (&#x27;lr&#x27;,\n",
       "                                          LogisticRegression(class_weight=&#x27;balanced&#x27;,\n",
       "                                                             max_iter=1000,\n",
       "                                                             random_state=42))]),\n",
       "               param_distributions={&#x27;lr__C&#x27;: LogUniformDistribution(high=100.0, low=0.0001)},\n",
       "               scoring=&lt;function f1_score_micro at 0x2a1fae200&gt;)</pre></div></div></div><div class=\"sk-parallel\"><div class=\"sk-parallel-item\"><div class=\"sk-item\"><div class=\"sk-label-container\"><div class=\"sk-label sk-toggleable\"><input class=\"sk-toggleable__control sk-hidden--visually\" id=\"sk-estimator-id-2\" type=\"checkbox\" ><label for=\"sk-estimator-id-2\" class=\"sk-toggleable__label sk-toggleable__label-arrow\">estimator: Pipeline</label><div class=\"sk-toggleable__content\"><pre>Pipeline(steps=[(&#x27;scaler&#x27;, MinMaxScaler()),\n",
       "                (&#x27;lr&#x27;,\n",
       "                 LogisticRegression(class_weight=&#x27;balanced&#x27;, max_iter=1000,\n",
       "                                    random_state=42))])</pre></div></div></div><div class=\"sk-serial\"><div class=\"sk-item\"><div class=\"sk-serial\"><div class=\"sk-item\"><div class=\"sk-estimator sk-toggleable\"><input class=\"sk-toggleable__control sk-hidden--visually\" id=\"sk-estimator-id-3\" type=\"checkbox\" ><label for=\"sk-estimator-id-3\" class=\"sk-toggleable__label sk-toggleable__label-arrow\">MinMaxScaler</label><div class=\"sk-toggleable__content\"><pre>MinMaxScaler()</pre></div></div></div><div class=\"sk-item\"><div class=\"sk-estimator sk-toggleable\"><input class=\"sk-toggleable__control sk-hidden--visually\" id=\"sk-estimator-id-4\" type=\"checkbox\" ><label for=\"sk-estimator-id-4\" class=\"sk-toggleable__label sk-toggleable__label-arrow\">LogisticRegression</label><div class=\"sk-toggleable__content\"><pre>LogisticRegression(class_weight=&#x27;balanced&#x27;, max_iter=1000, random_state=42)</pre></div></div></div></div></div></div></div></div></div></div></div></div>"
      ],
      "text/plain": [
       "OptunaSearchCV(cv=StratifiedKFold(n_splits=5, random_state=42, shuffle=True),\n",
       "               estimator=Pipeline(steps=[('scaler', MinMaxScaler()),\n",
       "                                         ('lr',\n",
       "                                          LogisticRegression(class_weight='balanced',\n",
       "                                                             max_iter=1000,\n",
       "                                                             random_state=42))]),\n",
       "               param_distributions={'lr__C': LogUniformDistribution(high=100.0, low=0.0001)},\n",
       "               scoring=<function f1_score_micro at 0x2a1fae200>)"
      ]
     },
     "execution_count": 5,
     "metadata": {},
     "output_type": "execute_result"
    }
   ],
   "source": [
    "model_pipeline = Pipeline(steps=[\n",
    "                    ('scaler', MinMaxScaler()), \n",
    "                    ('lr', LogisticRegression(class_weight='balanced', \n",
    "                                            penalty='l2',\n",
    "                                            max_iter=1000,\n",
    "                                            random_state=RANDOM_STATE))])\n",
    "\n",
    "param_distributions = {\n",
    "    'lr__C': distributions.LogUniformDistribution(1e-4, 100),\n",
    "}\n",
    "\n",
    "lr_best = OptunaSearchCV(model_pipeline, \n",
    "                            param_distributions, \n",
    "                            scoring=f1_score_micro,\n",
    "                            cv=StratifiedKFold(shuffle=True,random_state=RANDOM_STATE), \n",
    "                            n_trials=OPTUNA_N_TRIALS,\n",
    "                            verbose=0)\n",
    "                            \n",
    "lr_best.fit(X, y)"
   ]
  },
  {
   "cell_type": "markdown",
   "metadata": {},
   "source": [
    "A classe Model está implementada no arquivo model.py"
   ]
  },
  {
   "cell_type": "code",
   "execution_count": 14,
   "metadata": {},
   "outputs": [
    {
     "data": {
      "text/plain": [
       "0.85"
      ]
     },
     "execution_count": 14,
     "metadata": {},
     "output_type": "execute_result"
    }
   ],
   "source": [
    "lr_model = Model(model = lr_best.best_estimator_)\n",
    "f1_score_micro(lr_model,X,y)"
   ]
  },
  {
   "cell_type": "code",
   "execution_count": 19,
   "metadata": {},
   "outputs": [],
   "source": [
    "lr_model.save(path=MODEL_PATH,model_name=\"logistic_regression\")\n",
    "del lr_model,lr_best"
   ]
  },
  {
   "cell_type": "code",
   "execution_count": 20,
   "metadata": {},
   "outputs": [
    {
     "data": {
      "text/plain": [
       "0.85"
      ]
     },
     "execution_count": 20,
     "metadata": {},
     "output_type": "execute_result"
    }
   ],
   "source": [
    "lr_model = Model(model = None)\n",
    "lr_model.load(path=MODEL_PATH,model_name=\"logistic_regression\")\n",
    "f1_score_micro(lr_model,X,y)"
   ]
  },
  {
   "cell_type": "code",
   "execution_count": 27,
   "metadata": {},
   "outputs": [
    {
     "name": "stderr",
     "output_type": "stream",
     "text": [
      "/var/folders/j9/xmww9hhs58l11krvp3hwt9wm0000gn/T/ipykernel_30334/3383663217.py:13: ExperimentalWarning: OptunaSearchCV is experimental (supported from v0.17.0). The interface can change in the future.\n",
      "  rf_best = OptunaSearchCV(model_pipeline,\n",
      "\u001b[32m[I 2022-07-19 01:49:38,110]\u001b[0m A new study created in memory with name: no-name-33e5cdaf-08ff-41d6-b933-a97b1838774e\u001b[0m\n",
      "\u001b[32m[I 2022-07-19 01:49:38,559]\u001b[0m Trial 0 finished with value: 0.8493333333333333 and parameters: {'rf__n_estimators': 106, 'rf__max_depth': 88, 'rf__min_samples_split': 18, 'rf__min_samples_leaf': 36}. Best is trial 0 with value: 0.8493333333333333.\u001b[0m\n",
      "\u001b[32m[I 2022-07-19 01:49:39,498]\u001b[0m Trial 1 finished with value: 0.874 and parameters: {'rf__n_estimators': 218, 'rf__max_depth': 84, 'rf__min_samples_split': 13, 'rf__min_samples_leaf': 21}. Best is trial 1 with value: 0.874.\u001b[0m\n",
      "\u001b[32m[I 2022-07-19 01:49:40,023]\u001b[0m Trial 2 finished with value: 0.874 and parameters: {'rf__n_estimators': 120, 'rf__max_depth': 87, 'rf__min_samples_split': 19, 'rf__min_samples_leaf': 21}. Best is trial 1 with value: 0.874.\u001b[0m\n",
      "\u001b[32m[I 2022-07-19 01:49:41,578]\u001b[0m Trial 3 finished with value: 0.8513333333333334 and parameters: {'rf__n_estimators': 390, 'rf__max_depth': 48, 'rf__min_samples_split': 20, 'rf__min_samples_leaf': 37}. Best is trial 1 with value: 0.874.\u001b[0m\n",
      "\u001b[32m[I 2022-07-19 01:49:43,156]\u001b[0m Trial 4 finished with value: 0.8646666666666667 and parameters: {'rf__n_estimators': 385, 'rf__max_depth': 40, 'rf__min_samples_split': 12, 'rf__min_samples_leaf': 29}. Best is trial 1 with value: 0.874.\u001b[0m\n",
      "\u001b[32m[I 2022-07-19 01:49:44,761]\u001b[0m Trial 5 finished with value: 0.9046666666666667 and parameters: {'rf__n_estimators': 349, 'rf__max_depth': 10, 'rf__min_samples_split': 11, 'rf__min_samples_leaf': 9}. Best is trial 5 with value: 0.9046666666666667.\u001b[0m\n",
      "\u001b[32m[I 2022-07-19 01:49:45,117]\u001b[0m Trial 6 finished with value: 0.8793333333333333 and parameters: {'rf__n_estimators': 79, 'rf__max_depth': 12, 'rf__min_samples_split': 16, 'rf__min_samples_leaf': 17}. Best is trial 5 with value: 0.9046666666666667.\u001b[0m\n",
      "\u001b[32m[I 2022-07-19 01:49:46,442]\u001b[0m Trial 7 finished with value: 0.8780000000000001 and parameters: {'rf__n_estimators': 309, 'rf__max_depth': 90, 'rf__min_samples_split': 11, 'rf__min_samples_leaf': 20}. Best is trial 5 with value: 0.9046666666666667.\u001b[0m\n",
      "\u001b[32m[I 2022-07-19 01:49:47,611]\u001b[0m Trial 8 finished with value: 0.906 and parameters: {'rf__n_estimators': 237, 'rf__max_depth': 62, 'rf__min_samples_split': 19, 'rf__min_samples_leaf': 5}. Best is trial 8 with value: 0.906.\u001b[0m\n",
      "\u001b[32m[I 2022-07-19 01:49:47,673]\u001b[0m Trial 9 finished with value: 0.8526666666666667 and parameters: {'rf__n_estimators': 11, 'rf__max_depth': 58, 'rf__min_samples_split': 9, 'rf__min_samples_leaf': 32}. Best is trial 8 with value: 0.906.\u001b[0m\n"
     ]
    },
    {
     "data": {
      "text/html": [
       "<style>#sk-container-id-6 {color: black;background-color: white;}#sk-container-id-6 pre{padding: 0;}#sk-container-id-6 div.sk-toggleable {background-color: white;}#sk-container-id-6 label.sk-toggleable__label {cursor: pointer;display: block;width: 100%;margin-bottom: 0;padding: 0.3em;box-sizing: border-box;text-align: center;}#sk-container-id-6 label.sk-toggleable__label-arrow:before {content: \"▸\";float: left;margin-right: 0.25em;color: #696969;}#sk-container-id-6 label.sk-toggleable__label-arrow:hover:before {color: black;}#sk-container-id-6 div.sk-estimator:hover label.sk-toggleable__label-arrow:before {color: black;}#sk-container-id-6 div.sk-toggleable__content {max-height: 0;max-width: 0;overflow: hidden;text-align: left;background-color: #f0f8ff;}#sk-container-id-6 div.sk-toggleable__content pre {margin: 0.2em;color: black;border-radius: 0.25em;background-color: #f0f8ff;}#sk-container-id-6 input.sk-toggleable__control:checked~div.sk-toggleable__content {max-height: 200px;max-width: 100%;overflow: auto;}#sk-container-id-6 input.sk-toggleable__control:checked~label.sk-toggleable__label-arrow:before {content: \"▾\";}#sk-container-id-6 div.sk-estimator input.sk-toggleable__control:checked~label.sk-toggleable__label {background-color: #d4ebff;}#sk-container-id-6 div.sk-label input.sk-toggleable__control:checked~label.sk-toggleable__label {background-color: #d4ebff;}#sk-container-id-6 input.sk-hidden--visually {border: 0;clip: rect(1px 1px 1px 1px);clip: rect(1px, 1px, 1px, 1px);height: 1px;margin: -1px;overflow: hidden;padding: 0;position: absolute;width: 1px;}#sk-container-id-6 div.sk-estimator {font-family: monospace;background-color: #f0f8ff;border: 1px dotted black;border-radius: 0.25em;box-sizing: border-box;margin-bottom: 0.5em;}#sk-container-id-6 div.sk-estimator:hover {background-color: #d4ebff;}#sk-container-id-6 div.sk-parallel-item::after {content: \"\";width: 100%;border-bottom: 1px solid gray;flex-grow: 1;}#sk-container-id-6 div.sk-label:hover label.sk-toggleable__label {background-color: #d4ebff;}#sk-container-id-6 div.sk-serial::before {content: \"\";position: absolute;border-left: 1px solid gray;box-sizing: border-box;top: 0;bottom: 0;left: 50%;z-index: 0;}#sk-container-id-6 div.sk-serial {display: flex;flex-direction: column;align-items: center;background-color: white;padding-right: 0.2em;padding-left: 0.2em;position: relative;}#sk-container-id-6 div.sk-item {position: relative;z-index: 1;}#sk-container-id-6 div.sk-parallel {display: flex;align-items: stretch;justify-content: center;background-color: white;position: relative;}#sk-container-id-6 div.sk-item::before, #sk-container-id-6 div.sk-parallel-item::before {content: \"\";position: absolute;border-left: 1px solid gray;box-sizing: border-box;top: 0;bottom: 0;left: 50%;z-index: -1;}#sk-container-id-6 div.sk-parallel-item {display: flex;flex-direction: column;z-index: 1;position: relative;background-color: white;}#sk-container-id-6 div.sk-parallel-item:first-child::after {align-self: flex-end;width: 50%;}#sk-container-id-6 div.sk-parallel-item:last-child::after {align-self: flex-start;width: 50%;}#sk-container-id-6 div.sk-parallel-item:only-child::after {width: 0;}#sk-container-id-6 div.sk-dashed-wrapped {border: 1px dashed gray;margin: 0 0.4em 0.5em 0.4em;box-sizing: border-box;padding-bottom: 0.4em;background-color: white;}#sk-container-id-6 div.sk-label label {font-family: monospace;font-weight: bold;display: inline-block;line-height: 1.2em;}#sk-container-id-6 div.sk-label-container {text-align: center;}#sk-container-id-6 div.sk-container {/* jupyter's `normalize.less` sets `[hidden] { display: none; }` but bootstrap.min.css set `[hidden] { display: none !important; }` so we also need the `!important` here to be able to override the default hidden behavior on the sphinx rendered scikit-learn.org. See: https://github.com/scikit-learn/scikit-learn/issues/21755 */display: inline-block !important;position: relative;}#sk-container-id-6 div.sk-text-repr-fallback {display: none;}</style><div id=\"sk-container-id-6\" class=\"sk-top-container\"><div class=\"sk-text-repr-fallback\"><pre>OptunaSearchCV(cv=StratifiedKFold(n_splits=5, random_state=42, shuffle=True),\n",
       "               estimator=Pipeline(steps=[(&#x27;scaler&#x27;, MinMaxScaler()),\n",
       "                                         (&#x27;rf&#x27;,\n",
       "                                          RandomForestClassifier(class_weight=&#x27;balanced&#x27;,\n",
       "                                                                 random_state=42))]),\n",
       "               param_distributions={&#x27;rf__max_depth&#x27;: IntUniformDistribution(high=100, low=3, step=1),\n",
       "                                    &#x27;rf__min_samples_leaf&#x27;: IntUniformDistribution(high=40, low=2, step=1),\n",
       "                                    &#x27;rf__min_samples_split&#x27;: IntUniformDistribution(high=20, low=2, step=1),\n",
       "                                    &#x27;rf__n_estimators&#x27;: IntUniformDistribution(high=400, low=10, step=1)},\n",
       "               scoring=&lt;function f1_score_micro at 0x2a1fae200&gt;)</pre><b>In a Jupyter environment, please rerun this cell to show the HTML representation or trust the notebook. <br />On GitHub, the HTML representation is unable to render, please try loading this page with nbviewer.org.</b></div><div class=\"sk-container\" hidden><div class=\"sk-item sk-dashed-wrapped\"><div class=\"sk-label-container\"><div class=\"sk-label sk-toggleable\"><input class=\"sk-toggleable__control sk-hidden--visually\" id=\"sk-estimator-id-20\" type=\"checkbox\" ><label for=\"sk-estimator-id-20\" class=\"sk-toggleable__label sk-toggleable__label-arrow\">OptunaSearchCV</label><div class=\"sk-toggleable__content\"><pre>OptunaSearchCV(cv=StratifiedKFold(n_splits=5, random_state=42, shuffle=True),\n",
       "               estimator=Pipeline(steps=[(&#x27;scaler&#x27;, MinMaxScaler()),\n",
       "                                         (&#x27;rf&#x27;,\n",
       "                                          RandomForestClassifier(class_weight=&#x27;balanced&#x27;,\n",
       "                                                                 random_state=42))]),\n",
       "               param_distributions={&#x27;rf__max_depth&#x27;: IntUniformDistribution(high=100, low=3, step=1),\n",
       "                                    &#x27;rf__min_samples_leaf&#x27;: IntUniformDistribution(high=40, low=2, step=1),\n",
       "                                    &#x27;rf__min_samples_split&#x27;: IntUniformDistribution(high=20, low=2, step=1),\n",
       "                                    &#x27;rf__n_estimators&#x27;: IntUniformDistribution(high=400, low=10, step=1)},\n",
       "               scoring=&lt;function f1_score_micro at 0x2a1fae200&gt;)</pre></div></div></div><div class=\"sk-parallel\"><div class=\"sk-parallel-item\"><div class=\"sk-item\"><div class=\"sk-label-container\"><div class=\"sk-label sk-toggleable\"><input class=\"sk-toggleable__control sk-hidden--visually\" id=\"sk-estimator-id-21\" type=\"checkbox\" ><label for=\"sk-estimator-id-21\" class=\"sk-toggleable__label sk-toggleable__label-arrow\">estimator: Pipeline</label><div class=\"sk-toggleable__content\"><pre>Pipeline(steps=[(&#x27;scaler&#x27;, MinMaxScaler()),\n",
       "                (&#x27;rf&#x27;,\n",
       "                 RandomForestClassifier(class_weight=&#x27;balanced&#x27;,\n",
       "                                        random_state=42))])</pre></div></div></div><div class=\"sk-serial\"><div class=\"sk-item\"><div class=\"sk-serial\"><div class=\"sk-item\"><div class=\"sk-estimator sk-toggleable\"><input class=\"sk-toggleable__control sk-hidden--visually\" id=\"sk-estimator-id-22\" type=\"checkbox\" ><label for=\"sk-estimator-id-22\" class=\"sk-toggleable__label sk-toggleable__label-arrow\">MinMaxScaler</label><div class=\"sk-toggleable__content\"><pre>MinMaxScaler()</pre></div></div></div><div class=\"sk-item\"><div class=\"sk-estimator sk-toggleable\"><input class=\"sk-toggleable__control sk-hidden--visually\" id=\"sk-estimator-id-23\" type=\"checkbox\" ><label for=\"sk-estimator-id-23\" class=\"sk-toggleable__label sk-toggleable__label-arrow\">RandomForestClassifier</label><div class=\"sk-toggleable__content\"><pre>RandomForestClassifier(class_weight=&#x27;balanced&#x27;, random_state=42)</pre></div></div></div></div></div></div></div></div></div></div></div></div>"
      ],
      "text/plain": [
       "OptunaSearchCV(cv=StratifiedKFold(n_splits=5, random_state=42, shuffle=True),\n",
       "               estimator=Pipeline(steps=[('scaler', MinMaxScaler()),\n",
       "                                         ('rf',\n",
       "                                          RandomForestClassifier(class_weight='balanced',\n",
       "                                                                 random_state=42))]),\n",
       "               param_distributions={'rf__max_depth': IntUniformDistribution(high=100, low=3, step=1),\n",
       "                                    'rf__min_samples_leaf': IntUniformDistribution(high=40, low=2, step=1),\n",
       "                                    'rf__min_samples_split': IntUniformDistribution(high=20, low=2, step=1),\n",
       "                                    'rf__n_estimators': IntUniformDistribution(high=400, low=10, step=1)},\n",
       "               scoring=<function f1_score_micro at 0x2a1fae200>)"
      ]
     },
     "execution_count": 27,
     "metadata": {},
     "output_type": "execute_result"
    }
   ],
   "source": [
    "model_pipeline = Pipeline(steps=[\n",
    "                    ('scaler', MinMaxScaler()), \n",
    "                    ('rf', RandomForestClassifier(class_weight='balanced', \n",
    "                                            random_state=RANDOM_STATE))])\n",
    "\n",
    "param_distributions = {\n",
    "    'rf__n_estimators': distributions.IntUniformDistribution(10, 400),\n",
    "    'rf__max_depth': distributions.IntUniformDistribution(3, 100),\n",
    "    'rf__min_samples_split': distributions.IntUniformDistribution(2, 20),\n",
    "    'rf__min_samples_leaf': distributions.IntUniformDistribution(2, 40),\n",
    "}\n",
    "\n",
    "rf_best = OptunaSearchCV(model_pipeline, \n",
    "                            param_distributions, \n",
    "                            scoring=f1_score_micro,\n",
    "                            cv=StratifiedKFold(shuffle=True,random_state=RANDOM_STATE), \n",
    "                            n_trials=OPTUNA_N_TRIALS,\n",
    "                            verbose=0)\n",
    "                            \n",
    "rf_best.fit(X, y)"
   ]
  },
  {
   "cell_type": "code",
   "execution_count": 28,
   "metadata": {},
   "outputs": [
    {
     "data": {
      "text/plain": [
       "0.944"
      ]
     },
     "execution_count": 28,
     "metadata": {},
     "output_type": "execute_result"
    }
   ],
   "source": [
    "rf_model = Model(model = rf_best.best_estimator_)\n",
    "f1_score_micro(rf_model,X,y)"
   ]
  },
  {
   "cell_type": "code",
   "execution_count": 29,
   "metadata": {},
   "outputs": [],
   "source": [
    "rf_model.save(path=MODEL_PATH,model_name=\"random_forest\")\n",
    "del rf_model,rf_best"
   ]
  },
  {
   "cell_type": "code",
   "execution_count": 30,
   "metadata": {},
   "outputs": [
    {
     "data": {
      "text/plain": [
       "0.944"
      ]
     },
     "execution_count": 30,
     "metadata": {},
     "output_type": "execute_result"
    }
   ],
   "source": [
    "rf_model = Model(model = None)\n",
    "rf_model.load(path=MODEL_PATH,model_name=\"random_forest\")\n",
    "f1_score_micro(rf_model,X,y)"
   ]
  },
  {
   "cell_type": "code",
   "execution_count": 33,
   "metadata": {},
   "outputs": [
    {
     "name": "stderr",
     "output_type": "stream",
     "text": [
      "/var/folders/j9/xmww9hhs58l11krvp3hwt9wm0000gn/T/ipykernel_30334/429434209.py:14: ExperimentalWarning: OptunaSearchCV is experimental (supported from v0.17.0). The interface can change in the future.\n",
      "  lgbm_best = OptunaSearchCV(model_pipeline,\n",
      "\u001b[32m[I 2022-07-19 01:55:28,155]\u001b[0m A new study created in memory with name: no-name-5850deb0-09bb-4700-bde7-60b437b98a4b\u001b[0m\n",
      "\u001b[32m[I 2022-07-19 01:55:37,937]\u001b[0m Trial 0 finished with value: 0.9393333333333332 and parameters: {'lgbm__n_estimators': 202, 'lgbm__max_depth': 95, 'lgbm__learning_rate': 0.3062803413099891, 'lgbm__num_leaves': 7, 'lgbm__subsample_for_bin': 4119}. Best is trial 0 with value: 0.9393333333333332.\u001b[0m\n",
      "\u001b[32m[I 2022-07-19 01:56:10,764]\u001b[0m Trial 1 finished with value: 0.9413333333333334 and parameters: {'lgbm__n_estimators': 247, 'lgbm__max_depth': 38, 'lgbm__learning_rate': 0.10017270744931389, 'lgbm__num_leaves': 32, 'lgbm__subsample_for_bin': 29799}. Best is trial 1 with value: 0.9413333333333334.\u001b[0m\n",
      "\u001b[32m[I 2022-07-19 01:56:21,422]\u001b[0m Trial 2 finished with value: 0.9453333333333334 and parameters: {'lgbm__n_estimators': 212, 'lgbm__max_depth': 48, 'lgbm__learning_rate': 0.3950345043343973, 'lgbm__num_leaves': 16, 'lgbm__subsample_for_bin': 479}. Best is trial 2 with value: 0.9453333333333334.\u001b[0m\n",
      "\u001b[32m[I 2022-07-19 01:56:30,256]\u001b[0m Trial 3 finished with value: 0.9426666666666668 and parameters: {'lgbm__n_estimators': 172, 'lgbm__max_depth': 4, 'lgbm__learning_rate': 0.23993319551323883, 'lgbm__num_leaves': 9, 'lgbm__subsample_for_bin': 6674}. Best is trial 2 with value: 0.9453333333333334.\u001b[0m\n",
      "\u001b[32m[I 2022-07-19 01:56:35,063]\u001b[0m Trial 4 finished with value: 0.876 and parameters: {'lgbm__n_estimators': 83, 'lgbm__max_depth': 38, 'lgbm__learning_rate': 0.05492710911800736, 'lgbm__num_leaves': 7, 'lgbm__subsample_for_bin': 31}. Best is trial 2 with value: 0.9453333333333334.\u001b[0m\n",
      "\u001b[32m[I 2022-07-19 01:57:00,668]\u001b[0m Trial 5 finished with value: 0.944 and parameters: {'lgbm__n_estimators': 297, 'lgbm__max_depth': 31, 'lgbm__learning_rate': 0.11235104624036212, 'lgbm__num_leaves': 14, 'lgbm__subsample_for_bin': 260}. Best is trial 2 with value: 0.9453333333333334.\u001b[0m\n",
      "\u001b[32m[I 2022-07-19 01:57:01,307]\u001b[0m Trial 6 finished with value: 0.86 and parameters: {'lgbm__n_estimators': 18, 'lgbm__max_depth': 91, 'lgbm__learning_rate': 0.15423315519939879, 'lgbm__num_leaves': 4, 'lgbm__subsample_for_bin': 81}. Best is trial 2 with value: 0.9453333333333334.\u001b[0m\n",
      "\u001b[32m[I 2022-07-19 01:57:13,825]\u001b[0m Trial 7 finished with value: 0.9433333333333334 and parameters: {'lgbm__n_estimators': 365, 'lgbm__max_depth': 3, 'lgbm__learning_rate': 0.4605153176783556, 'lgbm__num_leaves': 7, 'lgbm__subsample_for_bin': 131740}. Best is trial 2 with value: 0.9453333333333334.\u001b[0m\n",
      "\u001b[32m[I 2022-07-19 01:57:26,541]\u001b[0m Trial 8 finished with value: 0.944 and parameters: {'lgbm__n_estimators': 250, 'lgbm__max_depth': 4, 'lgbm__learning_rate': 0.3570238040353153, 'lgbm__num_leaves': 32, 'lgbm__subsample_for_bin': 58730}. Best is trial 2 with value: 0.9453333333333334.\u001b[0m\n",
      "\u001b[32m[I 2022-07-19 01:57:30,452]\u001b[0m Trial 9 finished with value: 0.924 and parameters: {'lgbm__n_estimators': 94, 'lgbm__max_depth': 3, 'lgbm__learning_rate': 0.15054190424742414, 'lgbm__num_leaves': 28, 'lgbm__subsample_for_bin': 298}. Best is trial 2 with value: 0.9453333333333334.\u001b[0m\n"
     ]
    },
    {
     "data": {
      "text/html": [
       "<style>#sk-container-id-7 {color: black;background-color: white;}#sk-container-id-7 pre{padding: 0;}#sk-container-id-7 div.sk-toggleable {background-color: white;}#sk-container-id-7 label.sk-toggleable__label {cursor: pointer;display: block;width: 100%;margin-bottom: 0;padding: 0.3em;box-sizing: border-box;text-align: center;}#sk-container-id-7 label.sk-toggleable__label-arrow:before {content: \"▸\";float: left;margin-right: 0.25em;color: #696969;}#sk-container-id-7 label.sk-toggleable__label-arrow:hover:before {color: black;}#sk-container-id-7 div.sk-estimator:hover label.sk-toggleable__label-arrow:before {color: black;}#sk-container-id-7 div.sk-toggleable__content {max-height: 0;max-width: 0;overflow: hidden;text-align: left;background-color: #f0f8ff;}#sk-container-id-7 div.sk-toggleable__content pre {margin: 0.2em;color: black;border-radius: 0.25em;background-color: #f0f8ff;}#sk-container-id-7 input.sk-toggleable__control:checked~div.sk-toggleable__content {max-height: 200px;max-width: 100%;overflow: auto;}#sk-container-id-7 input.sk-toggleable__control:checked~label.sk-toggleable__label-arrow:before {content: \"▾\";}#sk-container-id-7 div.sk-estimator input.sk-toggleable__control:checked~label.sk-toggleable__label {background-color: #d4ebff;}#sk-container-id-7 div.sk-label input.sk-toggleable__control:checked~label.sk-toggleable__label {background-color: #d4ebff;}#sk-container-id-7 input.sk-hidden--visually {border: 0;clip: rect(1px 1px 1px 1px);clip: rect(1px, 1px, 1px, 1px);height: 1px;margin: -1px;overflow: hidden;padding: 0;position: absolute;width: 1px;}#sk-container-id-7 div.sk-estimator {font-family: monospace;background-color: #f0f8ff;border: 1px dotted black;border-radius: 0.25em;box-sizing: border-box;margin-bottom: 0.5em;}#sk-container-id-7 div.sk-estimator:hover {background-color: #d4ebff;}#sk-container-id-7 div.sk-parallel-item::after {content: \"\";width: 100%;border-bottom: 1px solid gray;flex-grow: 1;}#sk-container-id-7 div.sk-label:hover label.sk-toggleable__label {background-color: #d4ebff;}#sk-container-id-7 div.sk-serial::before {content: \"\";position: absolute;border-left: 1px solid gray;box-sizing: border-box;top: 0;bottom: 0;left: 50%;z-index: 0;}#sk-container-id-7 div.sk-serial {display: flex;flex-direction: column;align-items: center;background-color: white;padding-right: 0.2em;padding-left: 0.2em;position: relative;}#sk-container-id-7 div.sk-item {position: relative;z-index: 1;}#sk-container-id-7 div.sk-parallel {display: flex;align-items: stretch;justify-content: center;background-color: white;position: relative;}#sk-container-id-7 div.sk-item::before, #sk-container-id-7 div.sk-parallel-item::before {content: \"\";position: absolute;border-left: 1px solid gray;box-sizing: border-box;top: 0;bottom: 0;left: 50%;z-index: -1;}#sk-container-id-7 div.sk-parallel-item {display: flex;flex-direction: column;z-index: 1;position: relative;background-color: white;}#sk-container-id-7 div.sk-parallel-item:first-child::after {align-self: flex-end;width: 50%;}#sk-container-id-7 div.sk-parallel-item:last-child::after {align-self: flex-start;width: 50%;}#sk-container-id-7 div.sk-parallel-item:only-child::after {width: 0;}#sk-container-id-7 div.sk-dashed-wrapped {border: 1px dashed gray;margin: 0 0.4em 0.5em 0.4em;box-sizing: border-box;padding-bottom: 0.4em;background-color: white;}#sk-container-id-7 div.sk-label label {font-family: monospace;font-weight: bold;display: inline-block;line-height: 1.2em;}#sk-container-id-7 div.sk-label-container {text-align: center;}#sk-container-id-7 div.sk-container {/* jupyter's `normalize.less` sets `[hidden] { display: none; }` but bootstrap.min.css set `[hidden] { display: none !important; }` so we also need the `!important` here to be able to override the default hidden behavior on the sphinx rendered scikit-learn.org. See: https://github.com/scikit-learn/scikit-learn/issues/21755 */display: inline-block !important;position: relative;}#sk-container-id-7 div.sk-text-repr-fallback {display: none;}</style><div id=\"sk-container-id-7\" class=\"sk-top-container\"><div class=\"sk-text-repr-fallback\"><pre>OptunaSearchCV(cv=StratifiedKFold(n_splits=5, random_state=42, shuffle=True),\n",
       "               estimator=Pipeline(steps=[(&#x27;scaler&#x27;, MinMaxScaler()),\n",
       "                                         (&#x27;lgbm&#x27;,\n",
       "                                          LGBMClassifier(class_weight=&#x27;balanced&#x27;,\n",
       "                                                         random_state=42))]),\n",
       "               param_distributions={&#x27;lgbm__learning_rate&#x27;: LogUniformDistribution(high=0.5, low=0.05),\n",
       "                                    &#x27;lgbm__max_depth&#x27;: IntUniformDistribution(high=100, low=2, step=1),\n",
       "                                    &#x27;lgbm__n_estimators&#x27;: IntUniformDistribution(high=400, low=10, step=1),\n",
       "                                    &#x27;lgbm__num_leaves&#x27;: IntUniformDistribution(high=50, low=2, step=1),\n",
       "                                    &#x27;lgbm__subsample_for_bin&#x27;: IntLogUniformDistribution(high=200000, low=10, step=1)},\n",
       "               scoring=&lt;function f1_score_micro at 0x2a1fae200&gt;)</pre><b>In a Jupyter environment, please rerun this cell to show the HTML representation or trust the notebook. <br />On GitHub, the HTML representation is unable to render, please try loading this page with nbviewer.org.</b></div><div class=\"sk-container\" hidden><div class=\"sk-item sk-dashed-wrapped\"><div class=\"sk-label-container\"><div class=\"sk-label sk-toggleable\"><input class=\"sk-toggleable__control sk-hidden--visually\" id=\"sk-estimator-id-24\" type=\"checkbox\" ><label for=\"sk-estimator-id-24\" class=\"sk-toggleable__label sk-toggleable__label-arrow\">OptunaSearchCV</label><div class=\"sk-toggleable__content\"><pre>OptunaSearchCV(cv=StratifiedKFold(n_splits=5, random_state=42, shuffle=True),\n",
       "               estimator=Pipeline(steps=[(&#x27;scaler&#x27;, MinMaxScaler()),\n",
       "                                         (&#x27;lgbm&#x27;,\n",
       "                                          LGBMClassifier(class_weight=&#x27;balanced&#x27;,\n",
       "                                                         random_state=42))]),\n",
       "               param_distributions={&#x27;lgbm__learning_rate&#x27;: LogUniformDistribution(high=0.5, low=0.05),\n",
       "                                    &#x27;lgbm__max_depth&#x27;: IntUniformDistribution(high=100, low=2, step=1),\n",
       "                                    &#x27;lgbm__n_estimators&#x27;: IntUniformDistribution(high=400, low=10, step=1),\n",
       "                                    &#x27;lgbm__num_leaves&#x27;: IntUniformDistribution(high=50, low=2, step=1),\n",
       "                                    &#x27;lgbm__subsample_for_bin&#x27;: IntLogUniformDistribution(high=200000, low=10, step=1)},\n",
       "               scoring=&lt;function f1_score_micro at 0x2a1fae200&gt;)</pre></div></div></div><div class=\"sk-parallel\"><div class=\"sk-parallel-item\"><div class=\"sk-item\"><div class=\"sk-label-container\"><div class=\"sk-label sk-toggleable\"><input class=\"sk-toggleable__control sk-hidden--visually\" id=\"sk-estimator-id-25\" type=\"checkbox\" ><label for=\"sk-estimator-id-25\" class=\"sk-toggleable__label sk-toggleable__label-arrow\">estimator: Pipeline</label><div class=\"sk-toggleable__content\"><pre>Pipeline(steps=[(&#x27;scaler&#x27;, MinMaxScaler()),\n",
       "                (&#x27;lgbm&#x27;,\n",
       "                 LGBMClassifier(class_weight=&#x27;balanced&#x27;, random_state=42))])</pre></div></div></div><div class=\"sk-serial\"><div class=\"sk-item\"><div class=\"sk-serial\"><div class=\"sk-item\"><div class=\"sk-estimator sk-toggleable\"><input class=\"sk-toggleable__control sk-hidden--visually\" id=\"sk-estimator-id-26\" type=\"checkbox\" ><label for=\"sk-estimator-id-26\" class=\"sk-toggleable__label sk-toggleable__label-arrow\">MinMaxScaler</label><div class=\"sk-toggleable__content\"><pre>MinMaxScaler()</pre></div></div></div><div class=\"sk-item\"><div class=\"sk-estimator sk-toggleable\"><input class=\"sk-toggleable__control sk-hidden--visually\" id=\"sk-estimator-id-27\" type=\"checkbox\" ><label for=\"sk-estimator-id-27\" class=\"sk-toggleable__label sk-toggleable__label-arrow\">LGBMClassifier</label><div class=\"sk-toggleable__content\"><pre>LGBMClassifier(class_weight=&#x27;balanced&#x27;, random_state=42)</pre></div></div></div></div></div></div></div></div></div></div></div></div>"
      ],
      "text/plain": [
       "OptunaSearchCV(cv=StratifiedKFold(n_splits=5, random_state=42, shuffle=True),\n",
       "               estimator=Pipeline(steps=[('scaler', MinMaxScaler()),\n",
       "                                         ('lgbm',\n",
       "                                          LGBMClassifier(class_weight='balanced',\n",
       "                                                         random_state=42))]),\n",
       "               param_distributions={'lgbm__learning_rate': LogUniformDistribution(high=0.5, low=0.05),\n",
       "                                    'lgbm__max_depth': IntUniformDistribution(high=100, low=2, step=1),\n",
       "                                    'lgbm__n_estimators': IntUniformDistribution(high=400, low=10, step=1),\n",
       "                                    'lgbm__num_leaves': IntUniformDistribution(high=50, low=2, step=1),\n",
       "                                    'lgbm__subsample_for_bin': IntLogUniformDistribution(high=200000, low=10, step=1)},\n",
       "               scoring=<function f1_score_micro at 0x2a1fae200>)"
      ]
     },
     "execution_count": 33,
     "metadata": {},
     "output_type": "execute_result"
    }
   ],
   "source": [
    "model_pipeline = Pipeline(steps=[\n",
    "                    ('scaler', MinMaxScaler()), \n",
    "                    ('lgbm', LGBMClassifier(class_weight='balanced', \n",
    "                                            random_state=RANDOM_STATE))])\n",
    "\n",
    "param_distributions = {\n",
    "    'lgbm__n_estimators': distributions.IntUniformDistribution(10, 400),\n",
    "    'lgbm__max_depth': distributions.IntUniformDistribution(2, 100),\n",
    "    'lgbm__learning_rate': distributions.LogUniformDistribution(5e-2, 0.5),\n",
    "    'lgbm__num_leaves': distributions.IntUniformDistribution(2, 50),\n",
    "    'lgbm__subsample_for_bin': distributions.IntLogUniformDistribution(10, 200000),\n",
    "}\n",
    "\n",
    "lgbm_best = OptunaSearchCV(model_pipeline, \n",
    "                            param_distributions, \n",
    "                            scoring=f1_score_micro,\n",
    "                            cv=StratifiedKFold(shuffle=True,random_state=RANDOM_STATE), \n",
    "                            n_trials=OPTUNA_N_TRIALS,\n",
    "                            verbose=0)\n",
    "                            \n",
    "lgbm_best.fit(X, y)"
   ]
  },
  {
   "cell_type": "code",
   "execution_count": 34,
   "metadata": {},
   "outputs": [
    {
     "data": {
      "text/plain": [
       "0.9993333333333333"
      ]
     },
     "execution_count": 34,
     "metadata": {},
     "output_type": "execute_result"
    }
   ],
   "source": [
    "lgbm_model = Model(model = lgbm_best.best_estimator_)\n",
    "f1_score_micro(lgbm_model,X,y)"
   ]
  },
  {
   "cell_type": "code",
   "execution_count": 35,
   "metadata": {},
   "outputs": [],
   "source": [
    "lgbm_model.save(path=MODEL_PATH,model_name=\"light_gbm\")\n",
    "del lgbm_model,lgbm_best"
   ]
  },
  {
   "cell_type": "code",
   "execution_count": 36,
   "metadata": {},
   "outputs": [
    {
     "data": {
      "text/plain": [
       "0.9993333333333333"
      ]
     },
     "execution_count": 36,
     "metadata": {},
     "output_type": "execute_result"
    }
   ],
   "source": [
    "lgbm_model = Model(model = None)\n",
    "lgbm_model.load(path=MODEL_PATH,model_name=\"light_gbm\")\n",
    "f1_score_micro(lgbm_model,X,y)"
   ]
  },
  {
   "cell_type": "markdown",
   "metadata": {},
   "source": [
    "# Conclusões\n",
    "\n",
    "- Todos os modelos otimizados obtiveram ótima performance através da avaliação com a validação cruzada.\n",
    "- O modelo com maior performance de classificação é o LightGBM."
   ]
  },
  {
   "cell_type": "markdown",
   "metadata": {},
   "source": [
    "# Tarefa 07 - Escolha do Melhor Modelo\n",
    "\n",
    "Sub Tarefas:\n",
    "- Carregar os modelos salvos.\n",
    "- Comparar os modelos no conjunto final de teste.\n",
    "- Escolher o modelo vencedor (com maior performance no teste) que irá para produção.\n",
    "\n",
    "Definição de Pronto:\n",
    "- Ter escolhido um modelo vencedor.\n",
    "- Salvar o modelo vencedor para ir para produção."
   ]
  },
  {
   "cell_type": "code",
   "execution_count": 13,
   "metadata": {},
   "outputs": [],
   "source": [
    "best_lr = Model()\n",
    "best_lr.load(path=MODEL_PATH,model_name=\"logistic_regression\")\n",
    "\n",
    "best_rf = Model()\n",
    "best_rf.load(path=MODEL_PATH,model_name=\"random_forest\")\n",
    "\n",
    "best_lgbm = Model()\n",
    "best_lgbm.load(path=MODEL_PATH,model_name=\"light_gbm\")"
   ]
  },
  {
   "cell_type": "code",
   "execution_count": 14,
   "metadata": {},
   "outputs": [],
   "source": [
    "access_handler = DataAccessHandler(main_path=DATA_PATH)\n",
    "df_test = access_handler.load(dataset_type=\"test\")\n",
    "\n",
    "selector = FeatureSelector()\n",
    "selector.load_best_features(path=DATA_PATH)\n",
    "features = selector.get_selected_features\n",
    "\n",
    "target = 'fetal_health'\n",
    "X,y = df_test[features],df_test[target].values.ravel()"
   ]
  },
  {
   "cell_type": "code",
   "execution_count": 15,
   "metadata": {},
   "outputs": [
    {
     "name": "stdout",
     "output_type": "stream",
     "text": [
      "LogisticRegression Test Score: 0.8003\n",
      "RandomForest Test Score: 0.9105\n",
      "LightGBM Test Score: 0.9521\n"
     ]
    }
   ],
   "source": [
    "score_lr = f1_score_micro(estimator = best_lr,X=X,y=y)\n",
    "score_rf = f1_score_micro(estimator = best_rf,X=X,y=y)\n",
    "score_lgbm = f1_score_micro(estimator = best_lgbm,X=X,y=y)\n",
    "\n",
    "print(\"LogisticRegression Test Score: %.4f\" % score_lr)\n",
    "print(\"RandomForest Test Score: %.4f\" % score_rf)\n",
    "print(\"LightGBM Test Score: %.4f\" % score_lgbm)"
   ]
  },
  {
   "cell_type": "markdown",
   "metadata": {},
   "source": []
  }
 ],
 "metadata": {
  "kernelspec": {
   "display_name": "Python 3.10.4 ('base_ml')",
   "language": "python",
   "name": "python3"
  },
  "language_info": {
   "codemirror_mode": {
    "name": "ipython",
    "version": 3
   },
   "file_extension": ".py",
   "mimetype": "text/x-python",
   "name": "python",
   "nbconvert_exporter": "python",
   "pygments_lexer": "ipython3",
   "version": "3.10.4"
  },
  "orig_nbformat": 4,
  "vscode": {
   "interpreter": {
    "hash": "ff5b71a57004aac41c92d4008d66e8c8a20573ad91c6a09451338db6162a1ae6"
   }
  }
 },
 "nbformat": 4,
 "nbformat_minor": 2
}
