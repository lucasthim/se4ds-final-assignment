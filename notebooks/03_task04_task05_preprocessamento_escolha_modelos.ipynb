{
 "cells": [
  {
   "cell_type": "markdown",
   "metadata": {},
   "source": [
    "# Task 04 - Pré Processamento e Limpeza dos Dados\n",
    "\n",
    "Sub-tarefas:\n",
    "- Codificação (encoding) dos dados.\n",
    "- Escalonamento dos dados.\n",
    "- Regras de negócio para limpar dados.\n",
    "\n",
    "Definição de pronto:\n",
    "\n",
    "- Datasets de treino e testes preprocessados\n"
   ]
  },
  {
   "cell_type": "markdown",
   "metadata": {},
   "source": [
    "Como visto na Task 01 (Análise Exploratória de Dados), todos os dados são numéricos e estão preenchidos. Logo não há necessidade de codificação de atributos categórios e preenchimento de valores faltantes. \n",
    "\n",
    "A respeito dos outliers e valores extremos, este problema de classificação se trata em certa instância de uma identificação de anomalias (bebês com risco de saúde). Sendo assim, valores outliers podem ajudar a identificar padrões fora do comportamento normal esperado. \n",
    "\n",
    "O escalonamento dos dados será feito durante a etapa de validação cruzada. Justificamos essa decisão para evitar possíveis vazamentos de dados entre os conjuntos de treino e validação dos k-folds.\n",
    "\n",
    "Sendo assim, esta Task 04 pode ser considerada como Pronta desde já.\n"
   ]
  },
  {
   "cell_type": "markdown",
   "metadata": {},
   "source": [
    "# Task 05 - Extração e Seleção de Atributos\n",
    "\n",
    "Subtarefas:\n",
    "- Fazer código experimental para selecionar atributos automaticamente.\n",
    "- Implementar classe que seleciona os atributos automaticamente.\n",
    "\n",
    "\n",
    "Definição de Pronto\n",
    "- Ter um código experimental para selecionar os atributos.\n",
    "- Ter uma classe implementada que a partir de um dataset de treino gera um conjunto de atributos selecionados. \n",
    "- Ter um conjunto de atributos selecionadas salvas em arquivo (artefato)."
   ]
  },
  {
   "cell_type": "code",
   "execution_count": 1,
   "metadata": {},
   "outputs": [],
   "source": [
    "import pandas as pd\n",
    "import matplotlib.pyplot as plt\n",
    "\n",
    "from sklearn.feature_selection import RFECV\n",
    "from sklearn.ensemble import RandomForestClassifier\n",
    "from sklearn.model_selection import StratifiedKFold,cross_val_score\n",
    "\n",
    "from sklearn.metrics import f1_score\n",
    "\n",
    "from sklearn.base import BaseEstimator\n",
    "\n",
    "from data_access_handler import DataAccessHandler"
   ]
  },
  {
   "cell_type": "code",
   "execution_count": 8,
   "metadata": {},
   "outputs": [],
   "source": [
    "access_handler = DataAccessHandler(main_path=\".\")\n",
    "df_train = access_handler.load(dataset_type=\"train\")"
   ]
  },
  {
   "cell_type": "markdown",
   "metadata": {},
   "source": [
    "A seleção de features será executada através do método *Recursive Feature Elimination* (Eliminação Recursiva de Atributos), que busca reduzir recursivamente o número de atributos disponíveis, porém sem perder poder preditivo. Este método utiliza as importâncias dos atributos de um modelo de machine learning treinado, para medir qual o grau das features na predição final.  Além disso, será usado validação cruzada pra atingir um maior grau de robustez na seleção.\n",
    "\n",
    "A métrica que irá avaliar essa seleção de atributos será a F1-score, com média macro. Isto é, levará em consideração todos os verdadeiros positivos, falsos positivos, falsos negativos."
   ]
  },
  {
   "cell_type": "code",
   "execution_count": 9,
   "metadata": {},
   "outputs": [],
   "source": [
    "def f1_score_micro(estimator:BaseEstimator,X:pd.DataFrame,y:pd.DataFrame):\n",
    "    y_pred = estimator.predict(X)\n",
    "    return f1_score(y_true=y,y_pred=y_pred, average='micro')\n",
    "\n",
    "rfe_feature_selector = RFECV(estimator=RandomForestClassifier(min_samples_split=3, min_samples_leaf=3,random_state=42),\n",
    "                            step=1,\n",
    "                            min_features_to_select=3,\n",
    "                            cv = StratifiedKFold(n_splits=5,random_state=42,shuffle=True),\n",
    "                            scoring=f1_score_micro,\n",
    "                            verbose=2,\n",
    "                            n_jobs=-1)"
   ]
  },
  {
   "cell_type": "code",
   "execution_count": 10,
   "metadata": {},
   "outputs": [
    {
     "name": "stdout",
     "output_type": "stream",
     "text": [
      "Fitting estimator with 21 features.\n",
      "Fitting estimator with 21 features.\n",
      "Fitting estimator with 21 features.\n",
      "Fitting estimator with 21 features.\n",
      "Fitting estimator with 20 features.\n",
      "Fitting estimator with 20 features.\n",
      "Fitting estimator with 20 features.\n",
      "Fitting estimator with 20 features.\n",
      "Fitting estimator with 19 features.\n",
      "Fitting estimator with 19 features.\n",
      "Fitting estimator with 19 features.\n",
      "Fitting estimator with 19 features.\n",
      "Fitting estimator with 18 features.\n",
      "Fitting estimator with 18 features.\n",
      "Fitting estimator with 17 features.\n",
      "Fitting estimator with 17 features.\n",
      "Fitting estimator with 18 features.\n",
      "Fitting estimator with 18 features.\n",
      "Fitting estimator with 16 features.\n",
      "Fitting estimator with 17 features.\n",
      "Fitting estimator with 16 features.\n",
      "Fitting estimator with 15 features.\n",
      "Fitting estimator with 17 features.\n",
      "Fitting estimator with 16 features.\n",
      "Fitting estimator with 15 features.\n",
      "Fitting estimator with 14 features.\n",
      "Fitting estimator with 16 features.\n",
      "Fitting estimator with 14 features.\n",
      "Fitting estimator with 15 features.\n",
      "Fitting estimator with 15 features.\n",
      "Fitting estimator with 13 features.\n",
      "Fitting estimator with 13 features.\n",
      "Fitting estimator with 14 features.\n",
      "Fitting estimator with 12 features.\n",
      "Fitting estimator with 14 features.\n",
      "Fitting estimator with 13 features.\n",
      "Fitting estimator with 12 features.\n",
      "Fitting estimator with 11 features.\n",
      "Fitting estimator with 13 features.\n",
      "Fitting estimator with 12 features.\n",
      "Fitting estimator with 10 features.\n",
      "Fitting estimator with 11 features.\n",
      "Fitting estimator with 12 features.\n",
      "Fitting estimator with 11 features.\n",
      "Fitting estimator with 9 features.\n",
      "Fitting estimator with 11 features.\n",
      "Fitting estimator with 10 features.\n",
      "Fitting estimator with 8 features.\n",
      "Fitting estimator with 10 features.\n",
      "Fitting estimator with 10 features.\n",
      "Fitting estimator with 9 features.\n",
      "Fitting estimator with 9 features.\n",
      "Fitting estimator with 7 features.\n",
      "Fitting estimator with 8 features.\n",
      "Fitting estimator with 9 features.\n",
      "Fitting estimator with 8 features.\n",
      "Fitting estimator with 6 features.\n",
      "Fitting estimator with 7 features.\n",
      "Fitting estimator with 5 features.\n",
      "Fitting estimator with 7 features.\n",
      "Fitting estimator with 8 features.\n",
      "Fitting estimator with 6 features.\n",
      "Fitting estimator with 4 features.\n",
      "Fitting estimator with 6 features.\n",
      "Fitting estimator with 5 features.\n",
      "Fitting estimator with 7 features.\n",
      "Fitting estimator with 4 features.\n",
      "Fitting estimator with 5 features.\n",
      "Fitting estimator with 21 features.\n",
      "Fitting estimator with 6 features.\n",
      "Fitting estimator with 4 features.\n",
      "Fitting estimator with 5 features.\n",
      "Fitting estimator with 20 features.\n",
      "Fitting estimator with 4 features.\n",
      "Fitting estimator with 19 features.\n",
      "Fitting estimator with 18 features.\n",
      "Fitting estimator with 17 features.\n",
      "Fitting estimator with 16 features.\n",
      "Fitting estimator with 15 features.\n",
      "Fitting estimator with 14 features.\n",
      "Fitting estimator with 13 features.\n",
      "Fitting estimator with 12 features.\n",
      "Fitting estimator with 11 features.\n",
      "Fitting estimator with 10 features.\n",
      "Fitting estimator with 9 features.\n",
      "Fitting estimator with 8 features.\n",
      "Fitting estimator with 7 features.\n",
      "Fitting estimator with 6 features.\n",
      "Fitting estimator with 5 features.\n",
      "Fitting estimator with 4 features.\n",
      "Fitting estimator with 21 features.\n",
      "Fitting estimator with 20 features.\n",
      "Fitting estimator with 19 features.\n",
      "Fitting estimator with 18 features.\n",
      "Fitting estimator with 17 features.\n",
      "Fitting estimator with 16 features.\n",
      "Fitting estimator with 15 features.\n",
      "Fitting estimator with 14 features.\n"
     ]
    },
    {
     "data": {
      "text/plain": [
       "RFECV(cv=StratifiedKFold(n_splits=5, random_state=42, shuffle=True),\n",
       "      estimator=RandomForestClassifier(min_samples_leaf=3, min_samples_split=3,\n",
       "                                       random_state=42),\n",
       "      min_features_to_select=3, n_jobs=-1,\n",
       "      scoring=<function f1_score_micro at 0x7f208c085940>, verbose=2)"
      ]
     },
     "execution_count": 10,
     "metadata": {},
     "output_type": "execute_result"
    }
   ],
   "source": [
    "target = ['fetal_health']\n",
    "features = df_train.drop(columns=target).columns\n",
    "X,y = df_train[features],df_train[target].values.ravel()\n",
    "\n",
    "rfe_feature_selector.fit(X,y)"
   ]
  },
  {
   "cell_type": "code",
   "execution_count": 28,
   "metadata": {},
   "outputs": [
    {
     "data": {
      "image/png": "[encoded data removed]",
      "text/plain": [
       "<Figure size 432x288 with 1 Axes>"
      ]
     },
     "metadata": {
      "needs_background": "light"
     },
     "output_type": "display_data"
    }
   ],
   "source": [
    "mean_score_result = rfe_feature_selector.cv_results_[\"mean_test_score\"]\n",
    "feature_quantity = X.shape[1]\n",
    "min_feature_quantity = feature_quantity - mean_score_result.shape[0]\n",
    "feature_quantity_progression = [str(x) for x in range(feature_quantity,min_feature_quantity,-1)]\n",
    "\n",
    "plt.plot(feature_quantity_progression,mean_score_result)\n",
    "plt.title(\"Progressão RFE\")\n",
    "plt.xlabel(\"Quantidade de Atributos\")\n",
    "plt.ylabel(\"F1-score\")\n",
    "plt.grid(True)\n",
    "plt.show()"
   ]
  },
  {
   "cell_type": "code",
   "execution_count": 33,
   "metadata": {},
   "outputs": [
    {
     "name": "stdout",
     "output_type": "stream",
     "text": [
      "Atributos Selecionados: ['baseline value' 'accelerations' 'uterine_contractions'\n",
      " 'prolongued_decelerations' 'abnormal_short_term_variability'\n",
      " 'mean_value_of_short_term_variability'\n",
      " 'percentage_of_time_with_abnormal_long_term_variability'\n",
      " 'mean_value_of_long_term_variability' 'histogram_width' 'histogram_min'\n",
      " 'histogram_mode' 'histogram_mean' 'histogram_median']\n",
      "\n",
      "F1-score Final da Validação Cruzada 0.9306666666666666\n"
     ]
    }
   ],
   "source": [
    "selected_features = rfe_feature_selector.get_feature_names_out()\n",
    "X,y = df_train[selected_features],df_train[target].values.ravel()\n",
    "\n",
    "scores = cross_val_score(estimator=RandomForestClassifier(min_samples_split=3, min_samples_leaf=3,random_state=42),\n",
    "                cv = StratifiedKFold(n_splits=5,random_state=42,shuffle=True),\n",
    "                X=X,y=y,\n",
    "                scoring=f1_score_micro,\n",
    "                n_jobs=-1)\n",
    "\n",
    "print(\"Atributos Selecionados:\",selected_features)\n",
    "print(\"\\nF1-score Final da Validação Cruzada\",scores.mean())"
   ]
  },
  {
   "cell_type": "markdown",
   "metadata": {},
   "source": [
    "Implementando a classe que encapsula o código experimental"
   ]
  },
  {
   "cell_type": "code",
   "execution_count": 1,
   "metadata": {},
   "outputs": [],
   "source": [
    "from feature_selector import FeatureSelector\n",
    "from data_access_handler import DataAccessHandler\n",
    "\n",
    "access_handler = DataAccessHandler(main_path=\".\")\n",
    "df_train = access_handler.load(dataset_type=\"train\")\n",
    "\n",
    "target = 'fetal_health'\n",
    "X,y = df_train,df_train[target].values.ravel()\n",
    "selector = FeatureSelector()\n",
    "selector.select_best_features(X=X,y=y)"
   ]
  },
  {
   "cell_type": "code",
   "execution_count": 3,
   "metadata": {},
   "outputs": [],
   "source": [
    "selector.get_selected_features"
   ]
  },
  {
   "cell_type": "code",
   "execution_count": 2,
   "metadata": {},
   "outputs": [
    {
     "ename": "AttributeError",
     "evalue": "'FeatureSelector' object has no attribute '_selected_features'",
     "output_type": "error",
     "traceback": [
      "\u001b[0;31m---------------------------------------------------------------------------\u001b[0m",
      "\u001b[0;31mAttributeError\u001b[0m                            Traceback (most recent call last)",
      "\u001b[0;32m/tmp/ipykernel_23907/2426852891.py\u001b[0m in \u001b[0;36m<module>\u001b[0;34m\u001b[0m\n\u001b[0;32m----> 1\u001b[0;31m \u001b[0mselector\u001b[0m\u001b[0;34m.\u001b[0m\u001b[0msave_best_features\u001b[0m\u001b[0;34m(\u001b[0m\u001b[0mpath\u001b[0m \u001b[0;34m=\u001b[0m \u001b[0;34m\".\"\u001b[0m\u001b[0;34m)\u001b[0m\u001b[0;34m\u001b[0m\u001b[0;34m\u001b[0m\u001b[0m\n\u001b[0m",
      "\u001b[0;32m~/projects/se4ds-final-assignment/notebooks/feature_selector.py\u001b[0m in \u001b[0;36msave_best_features\u001b[0;34m(self, path)\u001b[0m\n\u001b[1;32m     51\u001b[0m \u001b[0;34m\u001b[0m\u001b[0m\n\u001b[1;32m     52\u001b[0m         \u001b[0mpath\u001b[0m \u001b[0;34m=\u001b[0m \u001b[0mself\u001b[0m\u001b[0;34m.\u001b[0m\u001b[0m_add_bar_to_path\u001b[0m\u001b[0;34m(\u001b[0m\u001b[0mpath\u001b[0m\u001b[0;34m)\u001b[0m\u001b[0;34m\u001b[0m\u001b[0;34m\u001b[0m\u001b[0m\n\u001b[0;32m---> 53\u001b[0;31m         \u001b[0mdict_file\u001b[0m \u001b[0;34m=\u001b[0m \u001b[0;34m[\u001b[0m\u001b[0;34m{\u001b[0m\u001b[0;34m'best_features'\u001b[0m \u001b[0;34m:\u001b[0m \u001b[0mself\u001b[0m\u001b[0;34m.\u001b[0m\u001b[0m_selected_features\u001b[0m\u001b[0;34m}\u001b[0m\u001b[0;34m]\u001b[0m\u001b[0;34m\u001b[0m\u001b[0;34m\u001b[0m\u001b[0m\n\u001b[0m\u001b[1;32m     54\u001b[0m         \u001b[0;32mwith\u001b[0m \u001b[0mopen\u001b[0m\u001b[0;34m(\u001b[0m\u001b[0;34mf'{path}best_features.yaml'\u001b[0m\u001b[0;34m,\u001b[0m \u001b[0;34m'w'\u001b[0m\u001b[0;34m)\u001b[0m \u001b[0;32mas\u001b[0m \u001b[0mfile\u001b[0m\u001b[0;34m:\u001b[0m\u001b[0;34m\u001b[0m\u001b[0;34m\u001b[0m\u001b[0m\n\u001b[1;32m     55\u001b[0m             \u001b[0mdocuments\u001b[0m \u001b[0;34m=\u001b[0m \u001b[0myaml\u001b[0m\u001b[0;34m.\u001b[0m\u001b[0mdump\u001b[0m\u001b[0;34m(\u001b[0m\u001b[0mdict_file\u001b[0m\u001b[0;34m,\u001b[0m \u001b[0mfile\u001b[0m\u001b[0;34m)\u001b[0m\u001b[0;34m\u001b[0m\u001b[0;34m\u001b[0m\u001b[0m\n",
      "\u001b[0;31mAttributeError\u001b[0m: 'FeatureSelector' object has no attribute '_selected_features'"
     ]
    }
   ],
   "source": [
    "selector.save_best_features(path = \".\")"
   ]
  },
  {
   "cell_type": "markdown",
   "metadata": {},
   "source": [
    "# Conclusões\n",
    "\n",
    "- 13 atributos finais foram selecionados utilizando o método RFECV, modelo RandomForest e mantendo a seed aleatória com o valor de 42 (para reproductibilidade).\n",
    "- A classe que fara essa seleção automática está implementada em um arquivo separado \"feature_selector.py\""
   ]
  }
 ],
 "metadata": {
  "kernelspec": {
   "display_name": "Python 3.8.10 64-bit",
   "language": "python",
   "name": "python3"
  },
  "language_info": {
   "codemirror_mode": {
    "name": "ipython",
    "version": 3
   },
   "file_extension": ".py",
   "mimetype": "text/x-python",
   "name": "python",
   "nbconvert_exporter": "python",
   "pygments_lexer": "ipython3",
   "version": "3.8.10"
  },
  "orig_nbformat": 4,
  "vscode": {
   "interpreter": {
    "hash": "916dbcbb3f70747c44a77c7bcd40155683ae19c65e1c03b4aa3499c5328201f1"
   }
  }
 },
 "nbformat": 4,
 "nbformat_minor": 2
}
