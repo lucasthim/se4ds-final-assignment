{
 "cells": [
  {
   "cell_type": "code",
   "execution_count": 18,
   "metadata": {},
   "outputs": [],
   "source": [
    "from pprint import pprint\n",
    "\n",
    "import pandas as pd\n",
    "import numpy as np\n",
    "import matplotlib.pyplot as plt\n",
    "\n",
    "from sklearn.linear_model import LogisticRegression\n",
    "from sklearn.ensemble import RandomForestClassifier\n",
    "\n",
    "from sklearn.model_selection import train_test_split\n",
    "from sklearn.metrics import f1_score,roc_auc_score,classification_report"
   ]
  },
  {
   "cell_type": "markdown",
   "metadata": {},
   "source": [
    "# US02 - Limpeza e Preprocessamento dos Dados"
   ]
  },
  {
   "cell_type": "code",
   "execution_count": 5,
   "metadata": {},
   "outputs": [],
   "source": [
    "df = pd.read_csv(\"./fetal_health.csv\")\n",
    "target = ['fetal_health']\n",
    "\n",
    "features = df.drop(columns=target).columns"
   ]
  },
  {
   "cell_type": "markdown",
   "metadata": {},
   "source": [
    "# US03 - Experimentação Simples"
   ]
  },
  {
   "cell_type": "code",
   "execution_count": 10,
   "metadata": {},
   "outputs": [],
   "source": [
    "X,y = df[features],df[target]\n",
    "\n",
    "X_train,X_test,y_train,y_test = train_test_split(X,y,test_size=0.3,random_state=0)"
   ]
  },
  {
   "cell_type": "code",
   "execution_count": 13,
   "metadata": {},
   "outputs": [
    {
     "name": "stderr",
     "output_type": "stream",
     "text": [
      "/home/lucas/miniconda3/envs/se4ds/lib/python3.9/site-packages/sklearn/utils/validation.py:993: DataConversionWarning: A column-vector y was passed when a 1d array was expected. Please change the shape of y to (n_samples, ), for example using ravel().\n",
      "  y = column_or_1d(y, warn=True)\n"
     ]
    },
    {
     "data": {
      "text/plain": [
       "LogisticRegression(max_iter=10000, tol=0.001)"
      ]
     },
     "execution_count": 13,
     "metadata": {},
     "output_type": "execute_result"
    }
   ],
   "source": [
    "model = LogisticRegression(tol=0.001,max_iter=10000)\n",
    "model.fit(X_train,y_train)"
   ]
  },
  {
   "cell_type": "code",
   "execution_count": 19,
   "metadata": {},
   "outputs": [
    {
     "name": "stdout",
     "output_type": "stream",
     "text": [
      "('              precision    recall  f1-score   support\\n'\n",
      " '\\n'\n",
      " '         1.0       0.96      0.92      0.94      1203\\n'\n",
      " '         2.0       0.56      0.67      0.61       175\\n'\n",
      " '         3.0       0.75      0.80      0.77       110\\n'\n",
      " '\\n'\n",
      " '    accuracy                           0.89      1488\\n'\n",
      " '   macro avg       0.75      0.80      0.77      1488\\n'\n",
      " 'weighted avg       0.90      0.89      0.89      1488\\n')\n"
     ]
    }
   ],
   "source": [
    "\n",
    "y_pred = model.predict(X_train)\n",
    "pprint(classification_report(y_pred,y_train))"
   ]
  },
  {
   "cell_type": "code",
   "execution_count": 20,
   "metadata": {},
   "outputs": [
    {
     "name": "stdout",
     "output_type": "stream",
     "text": [
      "('              precision    recall  f1-score   support\\n'\n",
      " '\\n'\n",
      " '         1.0       0.94      0.92      0.93       503\\n'\n",
      " '         2.0       0.53      0.59      0.56        78\\n'\n",
      " '         3.0       0.78      0.79      0.78        57\\n'\n",
      " '\\n'\n",
      " '    accuracy                           0.87       638\\n'\n",
      " '   macro avg       0.75      0.77      0.76       638\\n'\n",
      " 'weighted avg       0.88      0.87      0.87       638\\n')\n"
     ]
    }
   ],
   "source": [
    "y_pred = model.predict(X_test)\n",
    "pprint(classification_report(y_pred,y_test))"
   ]
  },
  {
   "cell_type": "code",
   "execution_count": null,
   "metadata": {},
   "outputs": [],
   "source": []
  }
 ],
 "metadata": {
  "kernelspec": {
   "display_name": "Python 3.9.12 ('se4ds')",
   "language": "python",
   "name": "python3"
  },
  "language_info": {
   "codemirror_mode": {
    "name": "ipython",
    "version": 3
   },
   "file_extension": ".py",
   "mimetype": "text/x-python",
   "name": "python",
   "nbconvert_exporter": "python",
   "pygments_lexer": "ipython3",
   "version": "3.9.12"
  },
  "orig_nbformat": 4,
  "vscode": {
   "interpreter": {
    "hash": "3e0d7b50d805713f9a185acba16b870fbc6c42353ef10dffa17404d90e104671"
   }
  }
 },
 "nbformat": 4,
 "nbformat_minor": 2
}
